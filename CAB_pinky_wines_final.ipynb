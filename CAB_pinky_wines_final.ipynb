{
  "nbformat": 4,
  "nbformat_minor": 0,
  "metadata": {
    "colab": {
      "name": "wines_final.ipynb",
      "provenance": [],
      "collapsed_sections": [
        "1BsvsF-cSiF_",
        "UPLJpq7AAKKL",
        "i-uztRh3Bld6",
        "MAYTmIIvBo8J",
        "Nh9zUAkDBqr5",
        "ojEDeKAUcbOe",
        "-US6jK6N0GCb",
        "DY7x9V5JHV2d",
        "65jFYY7ZHZco",
        "23ZPQkH4lgIi"
      ],
      "toc_visible": true
    },
    "kernelspec": {
      "name": "python3",
      "display_name": "Python 3"
    }
  },
  "cells": [
    {
      "cell_type": "markdown",
      "metadata": {
        "id": "tDP2R8F6l70w"
      },
      "source": [
        "## prepare environment"
      ]
    },
    {
      "cell_type": "code",
      "metadata": {
        "id": "82GhtUFb7qqk"
      },
      "source": [
        "# load libraries\r\n",
        "import pandas as pd \r\n",
        "import numpy as np\r\n",
        "import matplotlib.pyplot as plt\r\n",
        "from sklearn.model_selection import train_test_split\r\n",
        "from collections import Counter\r\n",
        "from sklearn.preprocessing import StandardScaler\r\n",
        "from sklearn.preprocessing import LabelEncoder\r\n",
        "from sklearn.metrics import classification_report\r\n",
        "from sklearn.metrics import confusion_matrix\r\n",
        "from sklearn.metrics import accuracy_score \r\n",
        "from sklearn.metrics import cohen_kappa_score"
      ],
      "execution_count": null,
      "outputs": []
    },
    {
      "cell_type": "markdown",
      "metadata": {
        "id": "eEglWLPF15Xi"
      },
      "source": [
        "# preprocessing dataset1 (wines.csv)"
      ]
    },
    {
      "cell_type": "code",
      "metadata": {
        "id": "b1NsG7sY1494",
        "colab": {
          "base_uri": "https://localhost:8080/",
          "height": 398
        },
        "outputId": "db047f79-161e-425e-f545-259d88a4d13c"
      },
      "source": [
        "# load filtered dataset\r\n",
        "wines = pd.read_csv(\"/content/drive/MyDrive/Colab Notebooks/CAB/wine/data/wines_prep.csv\", sep=\",\", index_col=[0])\r\n",
        "\r\n",
        "# =======preprocessing : categorical DV (string to numeric) \r\n",
        "from sklearn.preprocessing import LabelEncoder\r\n",
        "labelencoder = LabelEncoder()\r\n",
        "wines['wine_type_N'] = labelencoder.fit_transform(wines['wine_type']) #red: 0, white: 1\r\n",
        "wines['wine_quality_N'] = labelencoder.fit_transform(wines['quality_label']) #high:0, low:1, medium:2\r\n",
        "\r\n",
        "wines.head(10)"
      ],
      "execution_count": null,
      "outputs": [
        {
          "output_type": "execute_result",
          "data": {
            "text/html": [
              "<div>\n",
              "<style scoped>\n",
              "    .dataframe tbody tr th:only-of-type {\n",
              "        vertical-align: middle;\n",
              "    }\n",
              "\n",
              "    .dataframe tbody tr th {\n",
              "        vertical-align: top;\n",
              "    }\n",
              "\n",
              "    .dataframe thead th {\n",
              "        text-align: right;\n",
              "    }\n",
              "</style>\n",
              "<table border=\"1\" class=\"dataframe\">\n",
              "  <thead>\n",
              "    <tr style=\"text-align: right;\">\n",
              "      <th></th>\n",
              "      <th>fixed acidity</th>\n",
              "      <th>volatile acidity</th>\n",
              "      <th>citric acid</th>\n",
              "      <th>residual sugar</th>\n",
              "      <th>chlorides</th>\n",
              "      <th>free sulfur dioxide</th>\n",
              "      <th>total sulfur dioxide</th>\n",
              "      <th>density</th>\n",
              "      <th>pH</th>\n",
              "      <th>sulphates</th>\n",
              "      <th>alcohol</th>\n",
              "      <th>quality</th>\n",
              "      <th>wine_type</th>\n",
              "      <th>quality_label</th>\n",
              "      <th>wine_type_N</th>\n",
              "      <th>wine_quality_N</th>\n",
              "    </tr>\n",
              "  </thead>\n",
              "  <tbody>\n",
              "    <tr>\n",
              "      <th>0</th>\n",
              "      <td>7.0</td>\n",
              "      <td>0.17</td>\n",
              "      <td>0.74</td>\n",
              "      <td>12.8</td>\n",
              "      <td>0.045</td>\n",
              "      <td>24.0</td>\n",
              "      <td>126.0</td>\n",
              "      <td>0.99420</td>\n",
              "      <td>3.26</td>\n",
              "      <td>0.38</td>\n",
              "      <td>12.2</td>\n",
              "      <td>8</td>\n",
              "      <td>white</td>\n",
              "      <td>high</td>\n",
              "      <td>1</td>\n",
              "      <td>0</td>\n",
              "    </tr>\n",
              "    <tr>\n",
              "      <th>1</th>\n",
              "      <td>7.7</td>\n",
              "      <td>0.64</td>\n",
              "      <td>0.21</td>\n",
              "      <td>2.2</td>\n",
              "      <td>0.077</td>\n",
              "      <td>32.0</td>\n",
              "      <td>133.0</td>\n",
              "      <td>0.99560</td>\n",
              "      <td>3.27</td>\n",
              "      <td>0.45</td>\n",
              "      <td>9.9</td>\n",
              "      <td>5</td>\n",
              "      <td>red</td>\n",
              "      <td>low</td>\n",
              "      <td>0</td>\n",
              "      <td>1</td>\n",
              "    </tr>\n",
              "    <tr>\n",
              "      <th>2</th>\n",
              "      <td>6.8</td>\n",
              "      <td>0.39</td>\n",
              "      <td>0.34</td>\n",
              "      <td>7.4</td>\n",
              "      <td>0.020</td>\n",
              "      <td>38.0</td>\n",
              "      <td>133.0</td>\n",
              "      <td>0.99212</td>\n",
              "      <td>3.18</td>\n",
              "      <td>0.44</td>\n",
              "      <td>12.0</td>\n",
              "      <td>7</td>\n",
              "      <td>white</td>\n",
              "      <td>medium</td>\n",
              "      <td>1</td>\n",
              "      <td>2</td>\n",
              "    </tr>\n",
              "    <tr>\n",
              "      <th>3</th>\n",
              "      <td>6.3</td>\n",
              "      <td>0.28</td>\n",
              "      <td>0.47</td>\n",
              "      <td>11.2</td>\n",
              "      <td>0.040</td>\n",
              "      <td>61.0</td>\n",
              "      <td>183.0</td>\n",
              "      <td>0.99592</td>\n",
              "      <td>3.12</td>\n",
              "      <td>0.51</td>\n",
              "      <td>9.5</td>\n",
              "      <td>6</td>\n",
              "      <td>white</td>\n",
              "      <td>medium</td>\n",
              "      <td>1</td>\n",
              "      <td>2</td>\n",
              "    </tr>\n",
              "    <tr>\n",
              "      <th>4</th>\n",
              "      <td>7.4</td>\n",
              "      <td>0.35</td>\n",
              "      <td>0.20</td>\n",
              "      <td>13.9</td>\n",
              "      <td>0.054</td>\n",
              "      <td>63.0</td>\n",
              "      <td>229.0</td>\n",
              "      <td>0.99888</td>\n",
              "      <td>3.11</td>\n",
              "      <td>0.50</td>\n",
              "      <td>8.9</td>\n",
              "      <td>6</td>\n",
              "      <td>white</td>\n",
              "      <td>medium</td>\n",
              "      <td>1</td>\n",
              "      <td>2</td>\n",
              "    </tr>\n",
              "    <tr>\n",
              "      <th>5</th>\n",
              "      <td>7.2</td>\n",
              "      <td>0.53</td>\n",
              "      <td>0.14</td>\n",
              "      <td>2.1</td>\n",
              "      <td>0.064</td>\n",
              "      <td>15.0</td>\n",
              "      <td>29.0</td>\n",
              "      <td>0.99323</td>\n",
              "      <td>3.35</td>\n",
              "      <td>0.61</td>\n",
              "      <td>12.1</td>\n",
              "      <td>6</td>\n",
              "      <td>red</td>\n",
              "      <td>medium</td>\n",
              "      <td>0</td>\n",
              "      <td>2</td>\n",
              "    </tr>\n",
              "    <tr>\n",
              "      <th>6</th>\n",
              "      <td>7.5</td>\n",
              "      <td>0.27</td>\n",
              "      <td>0.31</td>\n",
              "      <td>17.7</td>\n",
              "      <td>0.051</td>\n",
              "      <td>33.0</td>\n",
              "      <td>173.0</td>\n",
              "      <td>0.99900</td>\n",
              "      <td>3.09</td>\n",
              "      <td>0.64</td>\n",
              "      <td>10.2</td>\n",
              "      <td>5</td>\n",
              "      <td>white</td>\n",
              "      <td>low</td>\n",
              "      <td>1</td>\n",
              "      <td>1</td>\n",
              "    </tr>\n",
              "    <tr>\n",
              "      <th>7</th>\n",
              "      <td>6.8</td>\n",
              "      <td>0.11</td>\n",
              "      <td>0.27</td>\n",
              "      <td>8.6</td>\n",
              "      <td>0.044</td>\n",
              "      <td>45.0</td>\n",
              "      <td>104.0</td>\n",
              "      <td>0.99454</td>\n",
              "      <td>3.20</td>\n",
              "      <td>0.37</td>\n",
              "      <td>9.9</td>\n",
              "      <td>6</td>\n",
              "      <td>white</td>\n",
              "      <td>medium</td>\n",
              "      <td>1</td>\n",
              "      <td>2</td>\n",
              "    </tr>\n",
              "    <tr>\n",
              "      <th>8</th>\n",
              "      <td>9.0</td>\n",
              "      <td>0.44</td>\n",
              "      <td>0.49</td>\n",
              "      <td>2.4</td>\n",
              "      <td>0.078</td>\n",
              "      <td>26.0</td>\n",
              "      <td>121.0</td>\n",
              "      <td>0.99780</td>\n",
              "      <td>3.23</td>\n",
              "      <td>0.58</td>\n",
              "      <td>9.2</td>\n",
              "      <td>5</td>\n",
              "      <td>red</td>\n",
              "      <td>low</td>\n",
              "      <td>0</td>\n",
              "      <td>1</td>\n",
              "    </tr>\n",
              "    <tr>\n",
              "      <th>9</th>\n",
              "      <td>7.1</td>\n",
              "      <td>0.23</td>\n",
              "      <td>0.30</td>\n",
              "      <td>2.6</td>\n",
              "      <td>0.034</td>\n",
              "      <td>62.0</td>\n",
              "      <td>148.0</td>\n",
              "      <td>0.99121</td>\n",
              "      <td>3.03</td>\n",
              "      <td>0.56</td>\n",
              "      <td>11.3</td>\n",
              "      <td>7</td>\n",
              "      <td>white</td>\n",
              "      <td>medium</td>\n",
              "      <td>1</td>\n",
              "      <td>2</td>\n",
              "    </tr>\n",
              "  </tbody>\n",
              "</table>\n",
              "</div>"
            ],
            "text/plain": [
              "   fixed acidity  volatile acidity  ...  wine_type_N  wine_quality_N\n",
              "0            7.0              0.17  ...            1               0\n",
              "1            7.7              0.64  ...            0               1\n",
              "2            6.8              0.39  ...            1               2\n",
              "3            6.3              0.28  ...            1               2\n",
              "4            7.4              0.35  ...            1               2\n",
              "5            7.2              0.53  ...            0               2\n",
              "6            7.5              0.27  ...            1               1\n",
              "7            6.8              0.11  ...            1               2\n",
              "8            9.0              0.44  ...            0               1\n",
              "9            7.1              0.23  ...            1               2\n",
              "\n",
              "[10 rows x 16 columns]"
            ]
          },
          "metadata": {
            "tags": []
          },
          "execution_count": 3
        }
      ]
    },
    {
      "cell_type": "code",
      "metadata": {
        "colab": {
          "base_uri": "https://localhost:8080/"
        },
        "id": "HkvJtiQCy2r1",
        "outputId": "8502fce4-7a4f-482c-c683-c4171358e188"
      },
      "source": [
        "print(wines.dtypes)\r\n",
        "print(wines.info)\r\n",
        "print(wines.columns)"
      ],
      "execution_count": null,
      "outputs": [
        {
          "output_type": "stream",
          "text": [
            "fixed acidity           float64\n",
            "volatile acidity        float64\n",
            "citric acid             float64\n",
            "residual sugar          float64\n",
            "chlorides               float64\n",
            "free sulfur dioxide     float64\n",
            "total sulfur dioxide    float64\n",
            "density                 float64\n",
            "pH                      float64\n",
            "sulphates               float64\n",
            "alcohol                 float64\n",
            "quality                   int64\n",
            "wine_type                object\n",
            "quality_label            object\n",
            "wine_type_N               int64\n",
            "wine_quality_N            int64\n",
            "dtype: object\n",
            "<bound method DataFrame.info of       fixed acidity  volatile acidity  ...  wine_type_N  wine_quality_N\n",
            "0               7.0              0.17  ...            1               0\n",
            "1               7.7              0.64  ...            0               1\n",
            "2               6.8              0.39  ...            1               2\n",
            "3               6.3              0.28  ...            1               2\n",
            "4               7.4              0.35  ...            1               2\n",
            "...             ...               ...  ...          ...             ...\n",
            "6492            7.6              0.32  ...            1               1\n",
            "6493            5.6              0.28  ...            1               2\n",
            "6494            6.4              0.37  ...            1               1\n",
            "6495            6.5              0.26  ...            1               1\n",
            "6496            7.2              0.62  ...            0               1\n",
            "\n",
            "[6497 rows x 16 columns]>\n",
            "Index(['fixed acidity', 'volatile acidity', 'citric acid', 'residual sugar',\n",
            "       'chlorides', 'free sulfur dioxide', 'total sulfur dioxide', 'density',\n",
            "       'pH', 'sulphates', 'alcohol', 'quality', 'wine_type', 'quality_label',\n",
            "       'wine_type_N', 'wine_quality_N'],\n",
            "      dtype='object')\n"
          ],
          "name": "stdout"
        }
      ]
    },
    {
      "cell_type": "code",
      "metadata": {
        "colab": {
          "base_uri": "https://localhost:8080/"
        },
        "id": "e-71onyX4CK5",
        "outputId": "41ec621a-dc04-464e-872c-6780b0057174"
      },
      "source": [
        "# =======preprocessing : prepare dataset for classification\r\n",
        "w_features = wines.iloc[:,1:-5]\r\n",
        "w_feature_names = w_features.columns\r\n",
        "\r\n",
        "# set IV and DV\r\n",
        "X = w_features\r\n",
        "y = wines['quality_label']\r\n",
        "#y = w_features['wine_type']\r\n",
        "\r\n",
        "# split dataset for predicting wine quality\r\n",
        "wq_train_X, wq_test_X, wq_train_y, wq_test_y = train_test_split(X, y, test_size=0.3, random_state=42)\r\n",
        "print(Counter(wq_train_y), Counter(wq_test_y))\r\n",
        "print('Features:', list(w_feature_names))"
      ],
      "execution_count": null,
      "outputs": [
        {
          "output_type": "stream",
          "text": [
            "Counter({'medium': 2737, 'low': 1666, 'high': 144}) Counter({'medium': 1178, 'low': 718, 'high': 54})\n",
            "Features: ['volatile acidity', 'citric acid', 'residual sugar', 'chlorides', 'free sulfur dioxide', 'total sulfur dioxide', 'density', 'pH']\n"
          ],
          "name": "stdout"
        }
      ]
    },
    {
      "cell_type": "code",
      "metadata": {
        "id": "hRpqQYHG4SvC",
        "colab": {
          "base_uri": "https://localhost:8080/"
        },
        "outputId": "8c9df627-84b3-4235-b249-b5136e6fa5d1"
      },
      "source": [
        "# standardization\r\n",
        "from sklearn.preprocessing import MinMaxScaler\r\n",
        "from sklearn.preprocessing import StandardScaler\r\n",
        "\r\n",
        "#scaler = MinMaxScaler()\r\n",
        "sc = StandardScaler()\r\n",
        "X = np.array(X)\r\n",
        "\r\n",
        "sc.fit_transform(wq_train_X)\r\n",
        "sc.transform(wq_test_X)"
      ],
      "execution_count": null,
      "outputs": [
        {
          "output_type": "execute_result",
          "data": {
            "text/plain": [
              "array([[-0.36677232,  0.21304342, -0.73973914, ...,  0.07870662,\n",
              "        -0.45800976, -0.35881245],\n",
              "       [-0.4893465 ,  1.175018  ,  0.57239971, ...,  1.43775199,\n",
              "         0.29895414, -0.171597  ],\n",
              "       [-0.79578197,  0.35046836, -0.61275796, ...,  0.39640554,\n",
              "        -0.98921249,  0.70207508],\n",
              "       ...,\n",
              "       [-0.61192069, -0.33665635,  2.41362682, ...,  0.23755608,\n",
              "         0.74051642,  0.07802359],\n",
              "       [-0.30548522, -0.19923141, -0.16832384, ...,  0.69645452,\n",
              "        -0.5244101 , -0.92045878],\n",
              "       [-0.36677232, -0.26794388, -0.50694031, ..., -0.30959206,\n",
              "        -0.83649171,  0.20283389]])"
            ]
          },
          "metadata": {
            "tags": []
          },
          "execution_count": 16
        }
      ]
    },
    {
      "cell_type": "markdown",
      "metadata": {
        "id": "1BsvsF-cSiF_"
      },
      "source": [
        "# preprocessing dataset2 (wines_sales_prep.csv)"
      ]
    },
    {
      "cell_type": "code",
      "metadata": {
        "id": "btbJFd6bShT3"
      },
      "source": [
        "# load filtered dataset\r\n",
        "df = pd.read_csv(\"/content/sample_data/ML/wines_sales_prep.csv\", sep=\",\")\r\n",
        "\r\n",
        "# re-shuffle records just to randomize data points\r\n",
        "df = df.sample(frac=1, random_state=42).reset_index(drop=True)"
      ],
      "execution_count": null,
      "outputs": []
    },
    {
      "cell_type": "code",
      "metadata": {
        "id": "irhtIWGsmcEI"
      },
      "source": [
        "df.head(10)"
      ],
      "execution_count": null,
      "outputs": []
    },
    {
      "cell_type": "code",
      "metadata": {
        "colab": {
          "base_uri": "https://localhost:8080/"
        },
        "id": "W6-HbCj9mZnQ",
        "outputId": "e0eac3d8-de79-4fb2-bba9-90e4bd608342"
      },
      "source": [
        "# set IV and DV for modelling\r\n",
        "df_feature = df.loc[:,('points')] #,'rating_n'\r\n",
        "df_feature_names = 'points'\r\n",
        "df_price = np.array(df['price_bin_n'])\r\n",
        "\r\n",
        "X = df_feature\r\n",
        "y = df_price\r\n",
        "\r\n",
        "# =======split dataset \r\n",
        "wpr_train_X, wpr_test_X, wpr_train_y, wpr_test_y = train_test_split(X,y, test_size=0.3, random_state=42)\r\n",
        "print(Counter(wpr_train_y), Counter(wpr_test_y))\r\n",
        "# Counter({2: 130, 1: 53, 0: 37}) Counter({2: 65, 1: 17, 0: 13}) #high:0, low:1, middle:2 \r\n",
        "print('IV:', df_feature_names, '/ DV: high:0, low:1, middle:2' )"
      ],
      "execution_count": null,
      "outputs": [
        {
          "output_type": "stream",
          "text": [
            "Counter({2: 130, 1: 53, 0: 37}) Counter({2: 65, 1: 17, 0: 13})\n",
            "IV: points / DV: high:0, low:1, middle:2\n"
          ],
          "name": "stdout"
        }
      ]
    },
    {
      "cell_type": "markdown",
      "metadata": {
        "id": "KV2MFqI7kz3j"
      },
      "source": [
        "# Visualization"
      ]
    },
    {
      "cell_type": "code",
      "metadata": {
        "id": "PMgkfQ45k3Um"
      },
      "source": [
        "# distribution of quality_label (\"rating\") and price tag (\"price_bin\") using boxplot / histplot"
      ],
      "execution_count": null,
      "outputs": []
    },
    {
      "cell_type": "markdown",
      "metadata": {
        "id": "xbxB1liblPE4"
      },
      "source": [
        "# Modelling - comparison algorithms for wine_quality"
      ]
    },
    {
      "cell_type": "code",
      "metadata": {
        "id": "afi97BCtl1GK"
      },
      "source": [
        "# wq_train_X, wq_test_X, wq_train_y, wq_test_y\r\n",
        "\r\n",
        "# Compare Algorithms\r\n",
        "from sklearn import model_selection\r\n",
        "from sklearn.linear_model import LogisticRegression\r\n",
        "from sklearn.tree import DecisionTreeClassifier\r\n",
        "from sklearn.ensemble import RandomForestClassifier\r\n",
        "from sklearn.neighbors import KNeighborsClassifier\r\n",
        "from sklearn.discriminant_analysis import LinearDiscriminantAnalysis\r\n",
        "from sklearn.naive_bayes import GaussianNB\r\n",
        "from sklearn.svm import SVC"
      ],
      "execution_count": null,
      "outputs": []
    },
    {
      "cell_type": "code",
      "metadata": {
        "id": "kD3XiMdr452z"
      },
      "source": [
        "# load dataset\r\n",
        "# set IV and DV\r\n",
        "X = w_features\r\n",
        "Y = wines['quality_label']\r\n",
        "\r\n",
        "# prepare configuration for cross validation test harness\r\n",
        "seed = 10\r\n",
        "# prepare models\r\n",
        "models = []\r\n",
        "models.append(('LR', LogisticRegression()))\r\n",
        "models.append(('KNN', KNeighborsClassifier(n_neighbors = 20)))\r\n",
        "models.append(('RF', RandomForestClassifier()))\r\n",
        "models.append(('CART', DecisionTreeClassifier()))\r\n",
        "#models.append(('SVM', SVC()))"
      ],
      "execution_count": null,
      "outputs": []
    },
    {
      "cell_type": "code",
      "metadata": {
        "id": "eszdeC0w4_4L",
        "colab": {
          "base_uri": "https://localhost:8080/",
          "height": 1000
        },
        "outputId": "d3e13ca4-de30-410a-91c5-56fe9c47b43f"
      },
      "source": [
        "# evaluate each model in turn - wine_quality\r\n",
        "results = []\r\n",
        "names = []\r\n",
        "scoring = 'accuracy'\r\n",
        "for name, model in models:\r\n",
        "\tkfold = model_selection.KFold(n_splits=10, random_state=42, shuffle=True)\r\n",
        "\tcv_results = model_selection.cross_val_score(model, X, Y, cv=kfold, scoring=scoring)\r\n",
        "\tresults.append(cv_results)\r\n",
        "\tnames.append(name)\r\n",
        "\tmsg = \"%s: %f (%f)\" % (name, cv_results.mean(), cv_results.std())\r\n",
        "\tprint(msg)\r\n",
        " \r\n",
        "# boxplot algorithm comparison\r\n",
        "fig = plt.figure()\r\n",
        "fig.suptitle('Algorithm Comparison')\r\n",
        "ax = fig.add_subplot(111)\r\n",
        "plt.boxplot(results)\r\n",
        "ax.set_xticklabels(names)\r\n",
        "plt.show()\r\n",
        "\r\n",
        "# output\r\n",
        "# LR: 0.619521 (0.022164)\r\n",
        "# KNN: 0.587043 (0.018804)\r\n",
        "# RF: 0.814684 (0.011133)\r\n",
        "# CART: 0.729568 (0.019463)\r\n",
        "# SVM: 0.602586 (0.022230)"
      ],
      "execution_count": null,
      "outputs": [
        {
          "output_type": "stream",
          "text": [
            "/usr/local/lib/python3.7/dist-packages/sklearn/linear_model/_logistic.py:940: ConvergenceWarning: lbfgs failed to converge (status=1):\n",
            "STOP: TOTAL NO. of ITERATIONS REACHED LIMIT.\n",
            "\n",
            "Increase the number of iterations (max_iter) or scale the data as shown in:\n",
            "    https://scikit-learn.org/stable/modules/preprocessing.html\n",
            "Please also refer to the documentation for alternative solver options:\n",
            "    https://scikit-learn.org/stable/modules/linear_model.html#logistic-regression\n",
            "  extra_warning_msg=_LOGISTIC_SOLVER_CONVERGENCE_MSG)\n",
            "/usr/local/lib/python3.7/dist-packages/sklearn/linear_model/_logistic.py:940: ConvergenceWarning: lbfgs failed to converge (status=1):\n",
            "STOP: TOTAL NO. of ITERATIONS REACHED LIMIT.\n",
            "\n",
            "Increase the number of iterations (max_iter) or scale the data as shown in:\n",
            "    https://scikit-learn.org/stable/modules/preprocessing.html\n",
            "Please also refer to the documentation for alternative solver options:\n",
            "    https://scikit-learn.org/stable/modules/linear_model.html#logistic-regression\n",
            "  extra_warning_msg=_LOGISTIC_SOLVER_CONVERGENCE_MSG)\n",
            "/usr/local/lib/python3.7/dist-packages/sklearn/linear_model/_logistic.py:940: ConvergenceWarning: lbfgs failed to converge (status=1):\n",
            "STOP: TOTAL NO. of ITERATIONS REACHED LIMIT.\n",
            "\n",
            "Increase the number of iterations (max_iter) or scale the data as shown in:\n",
            "    https://scikit-learn.org/stable/modules/preprocessing.html\n",
            "Please also refer to the documentation for alternative solver options:\n",
            "    https://scikit-learn.org/stable/modules/linear_model.html#logistic-regression\n",
            "  extra_warning_msg=_LOGISTIC_SOLVER_CONVERGENCE_MSG)\n",
            "/usr/local/lib/python3.7/dist-packages/sklearn/linear_model/_logistic.py:940: ConvergenceWarning: lbfgs failed to converge (status=1):\n",
            "STOP: TOTAL NO. of ITERATIONS REACHED LIMIT.\n",
            "\n",
            "Increase the number of iterations (max_iter) or scale the data as shown in:\n",
            "    https://scikit-learn.org/stable/modules/preprocessing.html\n",
            "Please also refer to the documentation for alternative solver options:\n",
            "    https://scikit-learn.org/stable/modules/linear_model.html#logistic-regression\n",
            "  extra_warning_msg=_LOGISTIC_SOLVER_CONVERGENCE_MSG)\n",
            "/usr/local/lib/python3.7/dist-packages/sklearn/linear_model/_logistic.py:940: ConvergenceWarning: lbfgs failed to converge (status=1):\n",
            "STOP: TOTAL NO. of ITERATIONS REACHED LIMIT.\n",
            "\n",
            "Increase the number of iterations (max_iter) or scale the data as shown in:\n",
            "    https://scikit-learn.org/stable/modules/preprocessing.html\n",
            "Please also refer to the documentation for alternative solver options:\n",
            "    https://scikit-learn.org/stable/modules/linear_model.html#logistic-regression\n",
            "  extra_warning_msg=_LOGISTIC_SOLVER_CONVERGENCE_MSG)\n",
            "/usr/local/lib/python3.7/dist-packages/sklearn/linear_model/_logistic.py:940: ConvergenceWarning: lbfgs failed to converge (status=1):\n",
            "STOP: TOTAL NO. of ITERATIONS REACHED LIMIT.\n",
            "\n",
            "Increase the number of iterations (max_iter) or scale the data as shown in:\n",
            "    https://scikit-learn.org/stable/modules/preprocessing.html\n",
            "Please also refer to the documentation for alternative solver options:\n",
            "    https://scikit-learn.org/stable/modules/linear_model.html#logistic-regression\n",
            "  extra_warning_msg=_LOGISTIC_SOLVER_CONVERGENCE_MSG)\n",
            "/usr/local/lib/python3.7/dist-packages/sklearn/linear_model/_logistic.py:940: ConvergenceWarning: lbfgs failed to converge (status=1):\n",
            "STOP: TOTAL NO. of ITERATIONS REACHED LIMIT.\n",
            "\n",
            "Increase the number of iterations (max_iter) or scale the data as shown in:\n",
            "    https://scikit-learn.org/stable/modules/preprocessing.html\n",
            "Please also refer to the documentation for alternative solver options:\n",
            "    https://scikit-learn.org/stable/modules/linear_model.html#logistic-regression\n",
            "  extra_warning_msg=_LOGISTIC_SOLVER_CONVERGENCE_MSG)\n",
            "/usr/local/lib/python3.7/dist-packages/sklearn/linear_model/_logistic.py:940: ConvergenceWarning: lbfgs failed to converge (status=1):\n",
            "STOP: TOTAL NO. of ITERATIONS REACHED LIMIT.\n",
            "\n",
            "Increase the number of iterations (max_iter) or scale the data as shown in:\n",
            "    https://scikit-learn.org/stable/modules/preprocessing.html\n",
            "Please also refer to the documentation for alternative solver options:\n",
            "    https://scikit-learn.org/stable/modules/linear_model.html#logistic-regression\n",
            "  extra_warning_msg=_LOGISTIC_SOLVER_CONVERGENCE_MSG)\n",
            "/usr/local/lib/python3.7/dist-packages/sklearn/linear_model/_logistic.py:940: ConvergenceWarning: lbfgs failed to converge (status=1):\n",
            "STOP: TOTAL NO. of ITERATIONS REACHED LIMIT.\n",
            "\n",
            "Increase the number of iterations (max_iter) or scale the data as shown in:\n",
            "    https://scikit-learn.org/stable/modules/preprocessing.html\n",
            "Please also refer to the documentation for alternative solver options:\n",
            "    https://scikit-learn.org/stable/modules/linear_model.html#logistic-regression\n",
            "  extra_warning_msg=_LOGISTIC_SOLVER_CONVERGENCE_MSG)\n",
            "/usr/local/lib/python3.7/dist-packages/sklearn/linear_model/_logistic.py:940: ConvergenceWarning: lbfgs failed to converge (status=1):\n",
            "STOP: TOTAL NO. of ITERATIONS REACHED LIMIT.\n",
            "\n",
            "Increase the number of iterations (max_iter) or scale the data as shown in:\n",
            "    https://scikit-learn.org/stable/modules/preprocessing.html\n",
            "Please also refer to the documentation for alternative solver options:\n",
            "    https://scikit-learn.org/stable/modules/linear_model.html#logistic-regression\n",
            "  extra_warning_msg=_LOGISTIC_SOLVER_CONVERGENCE_MSG)\n"
          ],
          "name": "stderr"
        },
        {
          "output_type": "stream",
          "text": [
            "LR: 0.637373 (0.036479)\n",
            "KNN: 0.614597 (0.014859)\n",
            "RF: 0.808220 (0.014169)\n",
            "CART: 0.733106 (0.012939)\n"
          ],
          "name": "stdout"
        },
        {
          "output_type": "display_data",
          "data": {
            "image/png": "[encoded data removed]",
            "text/plain": [
              "<Figure size 432x288 with 1 Axes>"
            ]
          },
          "metadata": {
            "tags": [],
            "needs_background": "light"
          }
        }
      ]
    },
    {
      "cell_type": "code",
      "metadata": {
        "id": "uNZKKGed5be4"
      },
      "source": [
        "# save plot\r\n",
        "from google.colab import files\r\n",
        "plt.savefig(\"compr_wq_models.png\")\r\n",
        "files.download(\"compr_wq_models.png\") "
      ],
      "execution_count": null,
      "outputs": []
    },
    {
      "cell_type": "markdown",
      "metadata": {
        "id": "UuLTKul87OJ4"
      },
      "source": [
        "# modelling - comparison algorithms for red wine"
      ]
    },
    {
      "cell_type": "code",
      "metadata": {
        "id": "xN2aPVc9_Z1b"
      },
      "source": [
        "#load dataset\r\n",
        "wines = pd.read_csv(\"/content/drive/MyDrive/Colab Notebooks/data/wines_prep.csv\", sep=\",\", index_col=[0])\r\n",
        "\r\n",
        "wines_red = wines[wines['wine_type'] == 'red'] #1599 rows\r\n",
        "wines_red.describe()"
      ],
      "execution_count": null,
      "outputs": []
    },
    {
      "cell_type": "code",
      "metadata": {
        "id": "OZcauwpm7Gb9"
      },
      "source": [
        "# =======preprocessing : categorical DV (string to numeric) \r\n",
        "from sklearn.preprocessing import LabelEncoder\r\n",
        "labelencoder = LabelEncoder()\r\n",
        "wines_red['wine_quality_N'] = labelencoder.fit_transform(wines_red['quality_label']) #high:0, low:1, medium:2\r\n",
        "\r\n",
        "wines_red.head(10)\r\n",
        "\r\n",
        "# =======preprocessing : prepare dataset for classification\r\n",
        "rw_features = wines_red.iloc[:,:-4]\r\n",
        "rw_features_names = rw_features.columns\r\n",
        "\r\n",
        "# set IV and DV\r\n",
        "X = rw_features\r\n",
        "y = wines_red['quality_label']\r\n",
        "#y = rw_features['wine_type']\r\n",
        "\r\n",
        "# split dataset for predicting wine quality\r\n",
        "r_wq_train_X, r_wq_test_X, r_wq_train_y, r_wq_test_y = train_test_split(X, y, test_size=0.3, random_state=42)\r\n",
        "print(Counter(r_wq_train_y), Counter(r_wq_test_y))\r\n",
        "#Counter({'medium': 590, 'low': 514, 'high': 15}) Counter({'medium': 247, 'low': 230, 'high': 3})\r\n",
        "print('Features:', list(rw_features_names))\r\n",
        "\r\n",
        "# standardization\r\n",
        "from sklearn.preprocessing import MinMaxScaler\r\n",
        "from sklearn.preprocessing import StandardScaler\r\n",
        "\r\n",
        "#scaler = MinMaxScaler()\r\n",
        "sc = StandardScaler()\r\n",
        "X = np.array(X)\r\n",
        "\r\n",
        "sc.fit_transform(r_wq_train_X)\r\n",
        "sc.transform(r_wq_test_X)"
      ],
      "execution_count": null,
      "outputs": []
    },
    {
      "cell_type": "code",
      "metadata": {
        "id": "6nLuWI4w_ifn",
        "colab": {
          "base_uri": "https://localhost:8080/",
          "height": 1000
        },
        "outputId": "f84a0662-159a-461b-bd1b-740aff12171d"
      },
      "source": [
        "# ================= comparison algorithms for predicting red wine quality\r\n",
        "# r_wq_train_X, r_wq_test_X, r_wq_train_y, r_wq_test_y\r\n",
        "\r\n",
        "# Compare Algorithms\r\n",
        "from sklearn import model_selection\r\n",
        "from sklearn.linear_model import LogisticRegression\r\n",
        "from sklearn.tree import DecisionTreeClassifier\r\n",
        "from sklearn.ensemble import RandomForestClassifier\r\n",
        "from sklearn.neighbors import KNeighborsClassifier\r\n",
        "from sklearn.discriminant_analysis import LinearDiscriminantAnalysis\r\n",
        "from sklearn.naive_bayes import GaussianNB\r\n",
        "from sklearn.svm import SVC\r\n",
        "\r\n",
        "# load dataset\r\n",
        "# set IV and DV\r\n",
        "X = rw_features\r\n",
        "Y = wines_red['quality_label']\r\n",
        "\r\n",
        "# prepare configuration for cross validation test harness\r\n",
        "seed = 10\r\n",
        "# prepare models\r\n",
        "models = []\r\n",
        "models.append(('LR', LogisticRegression()))\r\n",
        "models.append(('KNN', KNeighborsClassifier(n_neighbors = 20)))\r\n",
        "models.append(('RF', RandomForestClassifier()))\r\n",
        "models.append(('CART', DecisionTreeClassifier()))\r\n",
        "#models.append(('SVM', SVC()))\r\n",
        "\r\n",
        "# evaluate each model in turn - wine_quality\r\n",
        "results = []\r\n",
        "names = []\r\n",
        "scoring = 'accuracy'\r\n",
        "for name, model in models:\r\n",
        "\tkfold = model_selection.KFold(n_splits=10, random_state=42, shuffle=True)\r\n",
        "\tcv_results = model_selection.cross_val_score(model, X, Y, cv=kfold, scoring=scoring)\r\n",
        "\tresults.append(cv_results)\r\n",
        "\tnames.append(name)\r\n",
        "\tmsg = \"%s: %f (%f)\" % (name, cv_results.mean(), cv_results.std())\r\n",
        "\tprint(msg)\r\n",
        " \r\n",
        "# boxplot algorithm comparison\r\n",
        "fig = plt.figure()\r\n",
        "fig.suptitle('Algorithm Comparison')\r\n",
        "ax = fig.add_subplot(111)\r\n",
        "plt.boxplot(results)\r\n",
        "ax.set_xticklabels(names)\r\n",
        "plt.show()\r\n",
        "\r\n",
        "# output\r\n",
        "# LR: 0.632327 (0.038602)\r\n",
        "# KNN: 0.527237 (0.035207)\r\n",
        "# RF: 0.815527 (0.031444)\r\n",
        "# CART: 0.733589 (0.038610)\r\n",
        "# SVM: 0.523494 (0.042232)"
      ],
      "execution_count": null,
      "outputs": [
        {
          "output_type": "stream",
          "text": [
            "/usr/local/lib/python3.7/dist-packages/sklearn/linear_model/_logistic.py:940: ConvergenceWarning: lbfgs failed to converge (status=1):\n",
            "STOP: TOTAL NO. of ITERATIONS REACHED LIMIT.\n",
            "\n",
            "Increase the number of iterations (max_iter) or scale the data as shown in:\n",
            "    https://scikit-learn.org/stable/modules/preprocessing.html\n",
            "Please also refer to the documentation for alternative solver options:\n",
            "    https://scikit-learn.org/stable/modules/linear_model.html#logistic-regression\n",
            "  extra_warning_msg=_LOGISTIC_SOLVER_CONVERGENCE_MSG)\n",
            "/usr/local/lib/python3.7/dist-packages/sklearn/linear_model/_logistic.py:940: ConvergenceWarning: lbfgs failed to converge (status=1):\n",
            "STOP: TOTAL NO. of ITERATIONS REACHED LIMIT.\n",
            "\n",
            "Increase the number of iterations (max_iter) or scale the data as shown in:\n",
            "    https://scikit-learn.org/stable/modules/preprocessing.html\n",
            "Please also refer to the documentation for alternative solver options:\n",
            "    https://scikit-learn.org/stable/modules/linear_model.html#logistic-regression\n",
            "  extra_warning_msg=_LOGISTIC_SOLVER_CONVERGENCE_MSG)\n",
            "/usr/local/lib/python3.7/dist-packages/sklearn/linear_model/_logistic.py:940: ConvergenceWarning: lbfgs failed to converge (status=1):\n",
            "STOP: TOTAL NO. of ITERATIONS REACHED LIMIT.\n",
            "\n",
            "Increase the number of iterations (max_iter) or scale the data as shown in:\n",
            "    https://scikit-learn.org/stable/modules/preprocessing.html\n",
            "Please also refer to the documentation for alternative solver options:\n",
            "    https://scikit-learn.org/stable/modules/linear_model.html#logistic-regression\n",
            "  extra_warning_msg=_LOGISTIC_SOLVER_CONVERGENCE_MSG)\n",
            "/usr/local/lib/python3.7/dist-packages/sklearn/linear_model/_logistic.py:940: ConvergenceWarning: lbfgs failed to converge (status=1):\n",
            "STOP: TOTAL NO. of ITERATIONS REACHED LIMIT.\n",
            "\n",
            "Increase the number of iterations (max_iter) or scale the data as shown in:\n",
            "    https://scikit-learn.org/stable/modules/preprocessing.html\n",
            "Please also refer to the documentation for alternative solver options:\n",
            "    https://scikit-learn.org/stable/modules/linear_model.html#logistic-regression\n",
            "  extra_warning_msg=_LOGISTIC_SOLVER_CONVERGENCE_MSG)\n",
            "/usr/local/lib/python3.7/dist-packages/sklearn/linear_model/_logistic.py:940: ConvergenceWarning: lbfgs failed to converge (status=1):\n",
            "STOP: TOTAL NO. of ITERATIONS REACHED LIMIT.\n",
            "\n",
            "Increase the number of iterations (max_iter) or scale the data as shown in:\n",
            "    https://scikit-learn.org/stable/modules/preprocessing.html\n",
            "Please also refer to the documentation for alternative solver options:\n",
            "    https://scikit-learn.org/stable/modules/linear_model.html#logistic-regression\n",
            "  extra_warning_msg=_LOGISTIC_SOLVER_CONVERGENCE_MSG)\n",
            "/usr/local/lib/python3.7/dist-packages/sklearn/linear_model/_logistic.py:940: ConvergenceWarning: lbfgs failed to converge (status=1):\n",
            "STOP: TOTAL NO. of ITERATIONS REACHED LIMIT.\n",
            "\n",
            "Increase the number of iterations (max_iter) or scale the data as shown in:\n",
            "    https://scikit-learn.org/stable/modules/preprocessing.html\n",
            "Please also refer to the documentation for alternative solver options:\n",
            "    https://scikit-learn.org/stable/modules/linear_model.html#logistic-regression\n",
            "  extra_warning_msg=_LOGISTIC_SOLVER_CONVERGENCE_MSG)\n",
            "/usr/local/lib/python3.7/dist-packages/sklearn/linear_model/_logistic.py:940: ConvergenceWarning: lbfgs failed to converge (status=1):\n",
            "STOP: TOTAL NO. of ITERATIONS REACHED LIMIT.\n",
            "\n",
            "Increase the number of iterations (max_iter) or scale the data as shown in:\n",
            "    https://scikit-learn.org/stable/modules/preprocessing.html\n",
            "Please also refer to the documentation for alternative solver options:\n",
            "    https://scikit-learn.org/stable/modules/linear_model.html#logistic-regression\n",
            "  extra_warning_msg=_LOGISTIC_SOLVER_CONVERGENCE_MSG)\n",
            "/usr/local/lib/python3.7/dist-packages/sklearn/linear_model/_logistic.py:940: ConvergenceWarning: lbfgs failed to converge (status=1):\n",
            "STOP: TOTAL NO. of ITERATIONS REACHED LIMIT.\n",
            "\n",
            "Increase the number of iterations (max_iter) or scale the data as shown in:\n",
            "    https://scikit-learn.org/stable/modules/preprocessing.html\n",
            "Please also refer to the documentation for alternative solver options:\n",
            "    https://scikit-learn.org/stable/modules/linear_model.html#logistic-regression\n",
            "  extra_warning_msg=_LOGISTIC_SOLVER_CONVERGENCE_MSG)\n",
            "/usr/local/lib/python3.7/dist-packages/sklearn/linear_model/_logistic.py:940: ConvergenceWarning: lbfgs failed to converge (status=1):\n",
            "STOP: TOTAL NO. of ITERATIONS REACHED LIMIT.\n",
            "\n",
            "Increase the number of iterations (max_iter) or scale the data as shown in:\n",
            "    https://scikit-learn.org/stable/modules/preprocessing.html\n",
            "Please also refer to the documentation for alternative solver options:\n",
            "    https://scikit-learn.org/stable/modules/linear_model.html#logistic-regression\n",
            "  extra_warning_msg=_LOGISTIC_SOLVER_CONVERGENCE_MSG)\n",
            "/usr/local/lib/python3.7/dist-packages/sklearn/linear_model/_logistic.py:940: ConvergenceWarning: lbfgs failed to converge (status=1):\n",
            "STOP: TOTAL NO. of ITERATIONS REACHED LIMIT.\n",
            "\n",
            "Increase the number of iterations (max_iter) or scale the data as shown in:\n",
            "    https://scikit-learn.org/stable/modules/preprocessing.html\n",
            "Please also refer to the documentation for alternative solver options:\n",
            "    https://scikit-learn.org/stable/modules/linear_model.html#logistic-regression\n",
            "  extra_warning_msg=_LOGISTIC_SOLVER_CONVERGENCE_MSG)\n"
          ],
          "name": "stderr"
        },
        {
          "output_type": "stream",
          "text": [
            "LR: 0.729222 (0.041742)\n",
            "KNN: 0.656057 (0.042774)\n",
            "RF: 0.824914 (0.032737)\n",
            "CART: 0.751733 (0.024405)\n"
          ],
          "name": "stdout"
        },
        {
          "output_type": "display_data",
          "data": {
            "image/png": "[encoded data removed]",
            "text/plain": [
              "<Figure size 432x288 with 1 Axes>"
            ]
          },
          "metadata": {
            "tags": [],
            "needs_background": "light"
          }
        }
      ]
    },
    {
      "cell_type": "markdown",
      "metadata": {
        "id": "A_Tk1CohAGW0"
      },
      "source": []
    },
    {
      "cell_type": "markdown",
      "metadata": {
        "id": "UPLJpq7AAKKL"
      },
      "source": [
        "# modelling - comparison algorithms for white wine"
      ]
    },
    {
      "cell_type": "code",
      "metadata": {
        "id": "BduqNbuBsrH9"
      },
      "source": [
        "#load dataset\r\n",
        "wines = pd.read_csv(\"/content/drive/MyDrive/Colab Notebooks/data/wines_prep.csv\", sep=\",\", index_col=[0])\r\n",
        "\r\n",
        "wines_white = wines[wines['wine_type'] == 'white'] #4898 rows\r\n",
        "wines_white.describe()"
      ],
      "execution_count": null,
      "outputs": []
    },
    {
      "cell_type": "code",
      "metadata": {
        "id": "A11ie0fRyuS5"
      },
      "source": [
        "labelencoder = LabelEncoder()\r\n",
        "wines_white['wine_quality_N'] = labelencoder.fit_transform(wines_white['quality_label']) #high:0, low:1, medium:2\r\n",
        "\r\n",
        "wines_white.head(10)\r\n",
        "wines_white.to_csv(\"/content/drive/MyDrive/Colab Notebooks/data/wines_white.csv\", sep=\",\")"
      ],
      "execution_count": null,
      "outputs": []
    },
    {
      "cell_type": "code",
      "metadata": {
        "id": "huV_IKVSsxOY",
        "colab": {
          "base_uri": "https://localhost:8080/"
        },
        "outputId": "8e8bfde2-ec63-4933-e6d0-dfd9d89afd1c"
      },
      "source": [
        "# =======preprocessing : prepare dataset for classification\r\n",
        "ww_features = wines_white.iloc[:,:-4]\r\n",
        "ww_features_names = ww_features.columns\r\n",
        "\r\n",
        "# set IV and DV\r\n",
        "X = ww_features\r\n",
        "y = wines_white['quality_label']\r\n",
        "#y = ww_features['wine_type']\r\n",
        "\r\n",
        "# split dataset for predicting wine quality\r\n",
        "w_wq_train_X, w_wq_test_X, w_wq_train_y, w_wq_test_y = train_test_split(X, y, test_size=0.3, random_state=42)\r\n",
        "print(Counter(w_wq_train_y), Counter(w_wq_test_y))\r\n",
        "#Counter({'medium': 590, 'low': 514, 'high': 15}) Counter({'medium': 247, 'low': 230, 'high': 3})\r\n",
        "print('Features:', list(ww_features_names))\r\n",
        "\r\n",
        "# standardization\r\n",
        "from sklearn.preprocessing import MinMaxScaler\r\n",
        "from sklearn.preprocessing import StandardScaler\r\n",
        "\r\n",
        "#scaler = MinMaxScaler()\r\n",
        "sc = StandardScaler()\r\n",
        "X = np.array(X)\r\n",
        "\r\n",
        "sc.fit_transform(w_wq_train_X)\r\n",
        "sc.transform(w_wq_test_X)"
      ],
      "execution_count": null,
      "outputs": [
        {
          "output_type": "stream",
          "text": [
            "Counter({'medium': 2179, 'low': 1131, 'high': 118}) Counter({'medium': 899, 'low': 509, 'high': 62})\n",
            "Features: ['fixed acidity', 'volatile acidity', 'citric acid', 'residual sugar', 'chlorides', 'free sulfur dioxide', 'total sulfur dioxide', 'density', 'pH', 'sulphates', 'alcohol']\n"
          ],
          "name": "stdout"
        },
        {
          "output_type": "stream",
          "text": [
            "/usr/local/lib/python3.7/dist-packages/ipykernel_launcher.py:2: SettingWithCopyWarning: \n",
            "A value is trying to be set on a copy of a slice from a DataFrame.\n",
            "Try using .loc[row_indexer,col_indexer] = value instead\n",
            "\n",
            "See the caveats in the documentation: https://pandas.pydata.org/pandas-docs/stable/user_guide/indexing.html#returning-a-view-versus-a-copy\n",
            "  \n"
          ],
          "name": "stderr"
        },
        {
          "output_type": "execute_result",
          "data": {
            "text/plain": [
              "array([[ 0.04683976, -0.87076134,  0.10971019, ...,  1.13309901,\n",
              "        -0.09081478, -0.57369032],\n",
              "       [-1.24710427,  0.241204  , -2.05505614, ..., -0.24644252,\n",
              "        -0.09081478, -0.65532199],\n",
              "       [ 0.39973358,  4.13308272, -1.05593322, ..., -1.23182932,\n",
              "         0.51317396, -1.14511203],\n",
              "       ...,\n",
              "       [-1.129473  ,  1.65643263, -0.0568103 , ...,  1.79002355,\n",
              "        -0.43595119,  0.81404813],\n",
              "       [-0.30605407, -0.87076134, -0.47311152, ...,  0.21340466,\n",
              "         1.72115142,  0.56915311],\n",
              "       [-1.129473  , -0.46641031, -0.30659103, ...,  0.60755938,\n",
              "        -0.86737171, -0.90021701]])"
            ]
          },
          "metadata": {
            "tags": []
          },
          "execution_count": 97
        }
      ]
    },
    {
      "cell_type": "code",
      "metadata": {
        "id": "Gxcs4UwitCWZ"
      },
      "source": [
        "# ================= comparison algorithms for predicting red wine quality\r\n",
        "# r_wq_train_X, r_wq_test_X, r_wq_train_y, r_wq_test_y\r\n",
        "\r\n",
        "# load dataset\r\n",
        "# set IV and DV\r\n",
        "X = ww_features\r\n",
        "Y = wines_white['quality_label']\r\n",
        "\r\n",
        "# prepare configuration for cross validation test harness\r\n",
        "seed = 10\r\n",
        "# prepare models\r\n",
        "models = []\r\n",
        "models.append(('LR', LogisticRegression()))\r\n",
        "models.append(('KNN', KNeighborsClassifier(n_neighbors = 20)))\r\n",
        "models.append(('RF', RandomForestClassifier()))\r\n",
        "models.append(('CART', DecisionTreeClassifier()))\r\n",
        "#models.append(('SVM', SVC()))\r\n",
        "\r\n",
        "# evaluate each model in turn - wine_quality\r\n",
        "results = []\r\n",
        "names = []\r\n",
        "scoring = 'accuracy'\r\n",
        "for name, model in models:\r\n",
        "\tkfold = model_selection.KFold(n_splits=10, random_state=42, shuffle=True)\r\n",
        "\tcv_results = model_selection.cross_val_score(model, X, Y, cv=kfold, scoring=scoring)\r\n",
        "\tresults.append(cv_results)\r\n",
        "\tnames.append(name)\r\n",
        "\tmsg = \"%s: %f (%f)\" % (name, cv_results.mean(), cv_results.std())\r\n",
        "\tprint(msg)\r\n",
        " \r\n",
        "# boxplot algorithm comparison\r\n",
        "fig = plt.figure()\r\n",
        "fig.suptitle('Algorithm Comparison')\r\n",
        "ax = fig.add_subplot(111)\r\n",
        "plt.boxplot(results)\r\n",
        "ax.set_xticklabels(names)\r\n",
        "plt.show()\r\n",
        "\r\n",
        "# output\r\n",
        "# LR: 0.664157 (0.019448)\r\n",
        "# KNN: 0.653540 (0.018875)\r\n",
        "# RF: 0.817889 (0.015139)\r\n",
        "# CART: 0.755001 (0.013624)"
      ],
      "execution_count": null,
      "outputs": []
    },
    {
      "cell_type": "markdown",
      "metadata": {
        "id": "WUyZ1z9VlMcw"
      },
      "source": [
        "# Modelling : predicting red wine quality from features, using RF/LR/KNN/SVM\r\n",
        "\r\n"
      ]
    },
    {
      "cell_type": "markdown",
      "metadata": {
        "id": "i-uztRh3Bld6"
      },
      "source": [
        "## logistic regression"
      ]
    },
    {
      "cell_type": "code",
      "metadata": {
        "colab": {
          "base_uri": "https://localhost:8080/"
        },
        "id": "QUVp8oxRBr2a",
        "outputId": "f5abc3bc-7e4c-4a3c-b9d9-272dce6ccdaf"
      },
      "source": [
        "# r_wq_train_X, r_wq_test_X, r_wq_train_y, r_wq_test_y\r\n",
        "\r\n",
        "# define parameters of the logisitic regression model \r\n",
        "from sklearn.linear_model import LogisticRegression\r\n",
        "from sklearn.metrics import classification_report\r\n",
        "from sklearn.metrics import cohen_kappa_score\r\n",
        "\r\n",
        "LogisticRegression(C=1.0, class_weight=None, dual=False, fit_intercept=True,\r\n",
        "intercept_scaling=1, max_iter=100, multi_class='ovr', n_jobs=1,\r\n",
        "penalty='l2', random_state=None, solver='liblinear', tol=0.0001,\r\n",
        "verbose=0, warm_start=False)\r\n",
        "\r\n",
        "# =======train a model : fit the Logistic Regression classifier\r\n",
        "wq_lr = LogisticRegression()\r\n",
        "wq_lr.fit(r_wq_train_X, r_wq_train_y)\r\n",
        "wq_lr.score(r_wq_test_X, r_wq_test_y)\r\n",
        "\r\n",
        "# =======predict the wine type and evaluate the performance\r\n",
        "r_wq_lr_predictions = wq_lr.predict(r_wq_test_X)\r\n",
        "print(classification_report(r_wq_test_y,r_wq_lr_predictions))\r\n",
        "\r\n",
        "#from sklearn.metrics import classification_report, confusion_matrix, accuracy_score\r\n",
        "#confusion_matrix(y_test, ypred)\r\n",
        "#classification_report(y_test, ypred)"
      ],
      "execution_count": null,
      "outputs": [
        {
          "output_type": "stream",
          "text": [
            "              precision    recall  f1-score   support\n",
            "\n",
            "        high       0.00      0.00      0.00         3\n",
            "         low       0.75      0.71      0.73       230\n",
            "      medium       0.74      0.78      0.76       247\n",
            "\n",
            "    accuracy                           0.74       480\n",
            "   macro avg       0.50      0.50      0.50       480\n",
            "weighted avg       0.74      0.74      0.74       480\n",
            "\n"
          ],
          "name": "stdout"
        },
        {
          "output_type": "stream",
          "text": [
            "/usr/local/lib/python3.7/dist-packages/sklearn/linear_model/_logistic.py:940: ConvergenceWarning: lbfgs failed to converge (status=1):\n",
            "STOP: TOTAL NO. of ITERATIONS REACHED LIMIT.\n",
            "\n",
            "Increase the number of iterations (max_iter) or scale the data as shown in:\n",
            "    https://scikit-learn.org/stable/modules/preprocessing.html\n",
            "Please also refer to the documentation for alternative solver options:\n",
            "    https://scikit-learn.org/stable/modules/linear_model.html#logistic-regression\n",
            "  extra_warning_msg=_LOGISTIC_SOLVER_CONVERGENCE_MSG)\n",
            "/usr/local/lib/python3.7/dist-packages/sklearn/metrics/_classification.py:1272: UndefinedMetricWarning: Precision and F-score are ill-defined and being set to 0.0 in labels with no predicted samples. Use `zero_division` parameter to control this behavior.\n",
            "  _warn_prf(average, modifier, msg_start, len(result))\n"
          ],
          "name": "stderr"
        }
      ]
    },
    {
      "cell_type": "code",
      "metadata": {
        "colab": {
          "base_uri": "https://localhost:8080/"
        },
        "id": "ke3Q1XOGCSV5",
        "outputId": "5b3dd74e-8830-4204-e104-39273b9a29c3"
      },
      "source": [
        "print('accuracy score:' + str(accuracy_score(r_wq_test_y,r_wq_lr_predictions))) #0.6375\r\n",
        "print ('kappa score:' + str(cohen_kappa_score(r_wq_test_y, r_wq_lr_predictions))) #0.2703\r\n"
      ],
      "execution_count": null,
      "outputs": [
        {
          "output_type": "stream",
          "text": [
            "accuracy score:0.74375\n",
            "kappa score:0.4890346701746491\n"
          ],
          "name": "stdout"
        }
      ]
    },
    {
      "cell_type": "markdown",
      "metadata": {
        "id": "ltWNbxLCBnPR"
      },
      "source": [
        "## random forest"
      ]
    },
    {
      "cell_type": "code",
      "metadata": {
        "id": "vt5ncVGjBsbt",
        "colab": {
          "base_uri": "https://localhost:8080/"
        },
        "outputId": "783a1df5-42db-45a7-ea66-1597f564313b"
      },
      "source": [
        "# r_wq_train_X, r_wq_test_X, r_wq_train_y, r_wq_test_y\r\n",
        "\r\n",
        "from sklearn.ensemble import RandomForestClassifier\r\n",
        "\r\n",
        "random_forest_model = RandomForestClassifier()\r\n",
        "random_forest_model.fit(r_wq_train_X, r_wq_train_y)\r\n",
        "r_wq_rf_predictions = random_forest_model.predict(r_wq_test_X)\r\n",
        "\r\n",
        "#Measure the performance of the random forest model\r\n",
        "\r\n",
        "print(classification_report(r_wq_test_y, r_wq_rf_predictions))\r\n",
        "print(confusion_matrix(r_wq_test_y, r_wq_rf_predictions))\r\n"
      ],
      "execution_count": null,
      "outputs": [
        {
          "output_type": "stream",
          "text": [
            "              precision    recall  f1-score   support\n",
            "\n",
            "        high       0.00      0.00      0.00         3\n",
            "         low       0.81      0.85      0.83       230\n",
            "      medium       0.84      0.81      0.83       247\n",
            "\n",
            "    accuracy                           0.83       480\n",
            "   macro avg       0.55      0.56      0.55       480\n",
            "weighted avg       0.82      0.83      0.82       480\n",
            "\n",
            "[[  0   0   3]\n",
            " [  0 196  34]\n",
            " [  0  46 201]]\n"
          ],
          "name": "stdout"
        },
        {
          "output_type": "stream",
          "text": [
            "/usr/local/lib/python3.7/dist-packages/sklearn/metrics/_classification.py:1272: UndefinedMetricWarning: Precision and F-score are ill-defined and being set to 0.0 in labels with no predicted samples. Use `zero_division` parameter to control this behavior.\n",
            "  _warn_prf(average, modifier, msg_start, len(result))\n"
          ],
          "name": "stderr"
        }
      ]
    },
    {
      "cell_type": "code",
      "metadata": {
        "colab": {
          "base_uri": "https://localhost:8080/"
        },
        "id": "GY5VfuOEDHPP",
        "outputId": "cd441526-9371-4dd9-cd88-4550c60cf306"
      },
      "source": [
        "print('accuracy score:' + str(accuracy_score(r_wq_test_y,r_wq_rf_predictions))) #0.8291\r\n",
        "print ('kappa score:' + str(cohen_kappa_score(r_wq_test_y, r_wq_rf_predictions))) #0.6603\r\n"
      ],
      "execution_count": null,
      "outputs": [
        {
          "output_type": "stream",
          "text": [
            "accuracy score:0.8270833333333333\n",
            "kappa score:0.6564154751021957\n"
          ],
          "name": "stdout"
        }
      ]
    },
    {
      "cell_type": "code",
      "metadata": {
        "colab": {
          "base_uri": "https://localhost:8080/"
        },
        "id": "eEaGUFXEmzJb",
        "outputId": "140c7ba5-c792-4f56-f7f3-cdce26c5ad7c"
      },
      "source": [
        "# red wine - random forest - feature importance\r\n",
        "r_feature_imp = pd.Series(random_forest_model.feature_importances_,index=rw_features_names).sort_values(ascending=False)\r\n",
        "r_feature_imp"
      ],
      "execution_count": null,
      "outputs": [
        {
          "output_type": "execute_result",
          "data": {
            "text/plain": [
              "alcohol                 0.170815\n",
              "sulphates               0.116420\n",
              "volatile acidity        0.114962\n",
              "total sulfur dioxide    0.093412\n",
              "density                 0.090711\n",
              "chlorides               0.079928\n",
              "pH                      0.070331\n",
              "citric acid             0.069720\n",
              "fixed acidity           0.065833\n",
              "free sulfur dioxide     0.064918\n",
              "residual sugar          0.062950\n",
              "dtype: float64"
            ]
          },
          "metadata": {
            "tags": []
          },
          "execution_count": 42
        }
      ]
    },
    {
      "cell_type": "code",
      "metadata": {
        "colab": {
          "base_uri": "https://localhost:8080/",
          "height": 313
        },
        "id": "n2RKo95YnAKn",
        "outputId": "f3387ce8-bf07-4d3a-b038-f3a7f8fec9bc"
      },
      "source": [
        "import matplotlib.pyplot as plt\r\n",
        "import seaborn as sns\r\n",
        "# Creating a bar plot\r\n",
        "sns.barplot(x=r_feature_imp, y=r_feature_imp.index)\r\n",
        "# Add labels to your graph\r\n",
        "plt.xlabel('Feature Importance Score')\r\n",
        "plt.ylabel('Features')\r\n",
        "plt.title(\"Important Features in predicting good red wine\")\r\n",
        "plt.legend()\r\n",
        "plt.show()"
      ],
      "execution_count": null,
      "outputs": [
        {
          "output_type": "stream",
          "text": [
            "No handles with labels found to put in legend.\n"
          ],
          "name": "stderr"
        },
        {
          "output_type": "display_data",
          "data": {
            "image/png": "[encoded data removed]",
            "text/plain": [
              "<Figure size 432x288 with 1 Axes>"
            ]
          },
          "metadata": {
            "tags": [],
            "needs_background": "light"
          }
        }
      ]
    },
    {
      "cell_type": "markdown",
      "metadata": {
        "id": "0BQ3CqODti8W"
      },
      "source": [
        "### white wine"
      ]
    },
    {
      "cell_type": "code",
      "metadata": {
        "colab": {
          "base_uri": "https://localhost:8080/"
        },
        "id": "XaMsPTNFth17",
        "outputId": "0cf94e37-c8ae-449c-c807-3485f85aea60"
      },
      "source": [
        "# w_wq_train_X, w_wq_test_X, w_wq_train_y, w_wq_test_y\r\n",
        "\r\n",
        "from sklearn.ensemble import RandomForestClassifier\r\n",
        "\r\n",
        "rf = RandomForestClassifier()\r\n",
        "rf.fit(w_wq_train_X, w_wq_train_y)\r\n",
        "w_wq_rf_predictions = rf.predict(w_wq_test_X)\r\n",
        "\r\n",
        "#Measure the performance of the random forest model\r\n",
        "\r\n",
        "print(classification_report(w_wq_test_y, w_wq_rf_predictions))\r\n",
        "print(confusion_matrix(w_wq_test_y, w_wq_rf_predictions))\r\n"
      ],
      "execution_count": null,
      "outputs": [
        {
          "output_type": "stream",
          "text": [
            "              precision    recall  f1-score   support\n",
            "\n",
            "        high       1.00      0.32      0.49        62\n",
            "         low       0.78      0.70      0.74       509\n",
            "      medium       0.81      0.89      0.84       899\n",
            "\n",
            "    accuracy                           0.80      1470\n",
            "   macro avg       0.86      0.64      0.69      1470\n",
            "weighted avg       0.80      0.80      0.79      1470\n",
            "\n",
            "[[ 20   1  41]\n",
            " [  0 357 152]\n",
            " [  0 102 797]]\n"
          ],
          "name": "stdout"
        }
      ]
    },
    {
      "cell_type": "code",
      "metadata": {
        "colab": {
          "base_uri": "https://localhost:8080/"
        },
        "id": "hRHwF0mMt8At",
        "outputId": "f7e77935-9138-4200-e228-dc3b385b23b3"
      },
      "source": [
        "print('accuracy score:' + str(accuracy_score(w_wq_test_y,w_wq_rf_predictions))) #0.8291\r\n",
        "print ('kappa score:' + str(cohen_kappa_score(w_wq_test_y, w_wq_rf_predictions))) #0.6603\r\n"
      ],
      "execution_count": null,
      "outputs": [
        {
          "output_type": "stream",
          "text": [
            "accuracy score:0.7986394557823129\n",
            "kappa score:0.5798012573514499\n"
          ],
          "name": "stdout"
        }
      ]
    },
    {
      "cell_type": "code",
      "metadata": {
        "colab": {
          "base_uri": "https://localhost:8080/"
        },
        "id": "GAuRuasqt_1Z",
        "outputId": "3bfb7f45-1c3c-41e6-ca03-ada54aad8309"
      },
      "source": [
        "# white wine - random forest - feature importance\r\n",
        "w_feature_imp = pd.Series(rf.feature_importances_,index=rw_features_names).sort_values(ascending=False)\r\n",
        "w_feature_imp"
      ],
      "execution_count": null,
      "outputs": [
        {
          "output_type": "execute_result",
          "data": {
            "text/plain": [
              "alcohol                 0.130583\n",
              "volatile acidity        0.120531\n",
              "density                 0.105948\n",
              "free sulfur dioxide     0.097533\n",
              "total sulfur dioxide    0.087928\n",
              "residual sugar          0.081390\n",
              "chlorides               0.079802\n",
              "pH                      0.079712\n",
              "citric acid             0.078125\n",
              "fixed acidity           0.069681\n",
              "sulphates               0.068767\n",
              "dtype: float64"
            ]
          },
          "metadata": {
            "tags": []
          },
          "execution_count": 65
        }
      ]
    },
    {
      "cell_type": "code",
      "metadata": {
        "colab": {
          "base_uri": "https://localhost:8080/",
          "height": 363
        },
        "id": "sTy31YSkv5TP",
        "outputId": "e0f9ef07-7cc9-4ab6-aca1-1f73bff2774a"
      },
      "source": [
        "w_feature_df = pd.DataFrame(w_feature_imp, columns = [\"feature_importance\"])\r\n",
        "w_feature_df_top5 = list(w_feature_df.head(5).index)\r\n",
        "w_feature_df[\"top5\"] = w_feature_df[\"feature_importance\"].index.isin(w_feature_df_top5)\r\n",
        "w_feature_df.head(10)"
      ],
      "execution_count": null,
      "outputs": [
        {
          "output_type": "execute_result",
          "data": {
            "text/html": [
              "<div>\n",
              "<style scoped>\n",
              "    .dataframe tbody tr th:only-of-type {\n",
              "        vertical-align: middle;\n",
              "    }\n",
              "\n",
              "    .dataframe tbody tr th {\n",
              "        vertical-align: top;\n",
              "    }\n",
              "\n",
              "    .dataframe thead th {\n",
              "        text-align: right;\n",
              "    }\n",
              "</style>\n",
              "<table border=\"1\" class=\"dataframe\">\n",
              "  <thead>\n",
              "    <tr style=\"text-align: right;\">\n",
              "      <th></th>\n",
              "      <th>feature_importance</th>\n",
              "      <th>top5</th>\n",
              "    </tr>\n",
              "  </thead>\n",
              "  <tbody>\n",
              "    <tr>\n",
              "      <th>alcohol</th>\n",
              "      <td>0.130583</td>\n",
              "      <td>True</td>\n",
              "    </tr>\n",
              "    <tr>\n",
              "      <th>volatile acidity</th>\n",
              "      <td>0.120531</td>\n",
              "      <td>True</td>\n",
              "    </tr>\n",
              "    <tr>\n",
              "      <th>density</th>\n",
              "      <td>0.105948</td>\n",
              "      <td>True</td>\n",
              "    </tr>\n",
              "    <tr>\n",
              "      <th>free sulfur dioxide</th>\n",
              "      <td>0.097533</td>\n",
              "      <td>True</td>\n",
              "    </tr>\n",
              "    <tr>\n",
              "      <th>total sulfur dioxide</th>\n",
              "      <td>0.087928</td>\n",
              "      <td>True</td>\n",
              "    </tr>\n",
              "    <tr>\n",
              "      <th>residual sugar</th>\n",
              "      <td>0.081390</td>\n",
              "      <td>False</td>\n",
              "    </tr>\n",
              "    <tr>\n",
              "      <th>chlorides</th>\n",
              "      <td>0.079802</td>\n",
              "      <td>False</td>\n",
              "    </tr>\n",
              "    <tr>\n",
              "      <th>pH</th>\n",
              "      <td>0.079712</td>\n",
              "      <td>False</td>\n",
              "    </tr>\n",
              "    <tr>\n",
              "      <th>citric acid</th>\n",
              "      <td>0.078125</td>\n",
              "      <td>False</td>\n",
              "    </tr>\n",
              "    <tr>\n",
              "      <th>fixed acidity</th>\n",
              "      <td>0.069681</td>\n",
              "      <td>False</td>\n",
              "    </tr>\n",
              "  </tbody>\n",
              "</table>\n",
              "</div>"
            ],
            "text/plain": [
              "                      feature_importance   top5\n",
              "alcohol                         0.130583   True\n",
              "volatile acidity                0.120531   True\n",
              "density                         0.105948   True\n",
              "free sulfur dioxide             0.097533   True\n",
              "total sulfur dioxide            0.087928   True\n",
              "residual sugar                  0.081390  False\n",
              "chlorides                       0.079802  False\n",
              "pH                              0.079712  False\n",
              "citric acid                     0.078125  False\n",
              "fixed acidity                   0.069681  False"
            ]
          },
          "metadata": {
            "tags": []
          },
          "execution_count": 79
        }
      ]
    },
    {
      "cell_type": "code",
      "metadata": {
        "colab": {
          "base_uri": "https://localhost:8080/",
          "height": 295
        },
        "id": "O3GncyJtutvx",
        "outputId": "5ea075cd-b4a9-448b-ddb9-4261dbfa1c49"
      },
      "source": [
        "# Creating a bar plot\r\n",
        "\r\n",
        "sns.barplot(x=w_feature_df['feature_importance'][:], y=w_feature_df['feature_importance'], hue=\"top5\", data = w_feature_df)\r\n",
        "# Add labels to your graph\r\n",
        "\r\n",
        "plt.xlabel('Feature Importance Score')\r\n",
        "plt.ylabel('Features')\r\n",
        "plt.title(\"Important Features in predicting good white wine\")\r\n",
        "plt.legend()\r\n",
        "plt.show()\r\n"
      ],
      "execution_count": null,
      "outputs": [
        {
          "output_type": "display_data",
          "data": {
            "image/png": "[encoded data removed]",
            "text/plain": [
              "<Figure size 432x288 with 1 Axes>"
            ]
          },
          "metadata": {
            "tags": [],
            "needs_background": "light"
          }
        }
      ]
    },
    {
      "cell_type": "markdown",
      "metadata": {
        "id": "6DUpLePsnfGX"
      },
      "source": [
        "## random forest with selected festures: alcohol, sulphates, volatile acidity - red wine"
      ]
    },
    {
      "cell_type": "code",
      "metadata": {
        "id": "pEntuzU_rxW8"
      },
      "source": [
        "# calculate class weight\r\n",
        "import numpy as np\r\n",
        "from sklearn.utils.class_weight import compute_class_weight"
      ],
      "execution_count": null,
      "outputs": []
    },
    {
      "cell_type": "code",
      "metadata": {
        "id": "q3ePTZkpneZC"
      },
      "source": [
        "# set IV and DV\r\n",
        "X = rw_features[['alcohol','sulphates', 'volatile acidity','total sulfur dioxide','density']]\r\n",
        "Y = wines_red['quality_label']\r\n",
        "r3_feature_names = list(X.columns)"
      ],
      "execution_count": null,
      "outputs": []
    },
    {
      "cell_type": "code",
      "metadata": {
        "colab": {
          "base_uri": "https://localhost:8080/"
        },
        "id": "TbCGSknlomzc",
        "outputId": "fcdc1b1a-691c-4529-bc41-4e0b52a8012b"
      },
      "source": [
        "\r\n",
        "# split dataset for predicting wine quality\r\n",
        "r3_wq_train_X, r3_wq_test_X, r3_wq_train_y, r3_wq_test_y = train_test_split(X, Y, test_size=0.3, random_state=42)\r\n",
        "print(Counter(r3_wq_train_y), Counter(r3_wq_test_y))\r\n",
        "#Counter({'medium': 590, 'low': 514, 'high': 15}) Counter({'medium': 247, 'low': 230, 'high': 3})\r\n",
        "print('Features:', list(r3_feature_names))\r\n",
        "\r\n",
        "# standardization\r\n",
        "from sklearn.preprocessing import MinMaxScaler\r\n",
        "from sklearn.preprocessing import StandardScaler\r\n",
        "\r\n",
        "#scaler = MinMaxScaler()\r\n",
        "sc = StandardScaler()\r\n",
        "X = np.array(X)\r\n",
        "\r\n",
        "sc.fit_transform(r3_wq_train_X)\r\n",
        "sc.transform(r3_wq_test_X)"
      ],
      "execution_count": null,
      "outputs": [
        {
          "output_type": "stream",
          "text": [
            "Counter({'medium': 590, 'low': 514, 'high': 15}) Counter({'medium': 247, 'low': 230, 'high': 3})\n",
            "Features: ['alcohol', 'sulphates', 'volatile acidity', 'total sulfur dioxide', 'density']\n"
          ],
          "name": "stdout"
        },
        {
          "output_type": "execute_result",
          "data": {
            "text/plain": [
              "array([[-0.94935675, -1.17002756,  0.40310026,  0.38741287, -0.16715378],\n",
              "       [-1.13406967, -1.41024788,  1.56965851,  1.18691565, -0.02190828],\n",
              "       [-0.02579213, -0.3893115 ,  0.23644908, -0.59659055, -0.41614607],\n",
              "       ...,\n",
              "       [-0.48757444,  1.23217571, -0.48570603,  0.0491617 ,  0.82881538],\n",
              "       [-0.85700029, -0.32925641,  0.01424751,  3.00117196, -0.08934369],\n",
              "       [ 0.25127725, -0.6895869 ,  3.65279825, -0.99634194, -0.063407  ]])"
            ]
          },
          "metadata": {
            "tags": []
          },
          "execution_count": 212
        }
      ]
    },
    {
      "cell_type": "code",
      "metadata": {
        "colab": {
          "base_uri": "https://localhost:8080/"
        },
        "id": "RolBXeqXo9qg",
        "outputId": "d9d87cd4-cf5b-4cd9-daf9-25c76e157954"
      },
      "source": [
        "# r_wq_train_X, r_wq_test_X, r_wq_train_y, r_wq_test_y\r\n",
        "\r\n",
        "from sklearn.ensemble import RandomForestClassifier\r\n",
        "\r\n",
        "rf = RandomForestClassifier()\r\n",
        "rf.fit(r3_wq_train_X, r3_wq_train_y)\r\n",
        "r3_wq_rf_predictions = rf.predict(r3_wq_test_X)\r\n",
        "\r\n",
        "#Measure the performance of the random forest model\r\n",
        "\r\n",
        "print(classification_report(r3_wq_test_y, r3_wq_rf_predictions))\r\n",
        "print(confusion_matrix(r3_wq_test_y, r3_wq_rf_predictions))\r\n"
      ],
      "execution_count": null,
      "outputs": [
        {
          "output_type": "stream",
          "text": [
            "              precision    recall  f1-score   support\n",
            "\n",
            "        high       0.00      0.00      0.00         3\n",
            "         low       0.83      0.81      0.82       230\n",
            "      medium       0.82      0.84      0.83       247\n",
            "\n",
            "    accuracy                           0.82       480\n",
            "   macro avg       0.55      0.55      0.55       480\n",
            "weighted avg       0.82      0.82      0.82       480\n",
            "\n",
            "[[  0   0   3]\n",
            " [  0 187  43]\n",
            " [  2  37 208]]\n"
          ],
          "name": "stdout"
        }
      ]
    },
    {
      "cell_type": "code",
      "metadata": {
        "colab": {
          "base_uri": "https://localhost:8080/"
        },
        "id": "SJt3v3mapNw7",
        "outputId": "462e28a4-1e9e-44ea-8638-0d604f88413a"
      },
      "source": [
        "print('accuracy score:' + str(accuracy_score(r3_wq_test_y,r3_wq_rf_predictions))) #0.8229\r\n",
        "print ('kappa score:' + str(cohen_kappa_score(r3_wq_test_y, r3_wq_rf_predictions))) #0.6486"
      ],
      "execution_count": null,
      "outputs": [
        {
          "output_type": "stream",
          "text": [
            "accuracy score:0.8229166666666666\n",
            "kappa score:0.6486877454019425\n"
          ],
          "name": "stdout"
        }
      ]
    },
    {
      "cell_type": "markdown",
      "metadata": {
        "id": "MAYTmIIvBo8J"
      },
      "source": [
        "## KNN"
      ]
    },
    {
      "cell_type": "code",
      "metadata": {
        "colab": {
          "base_uri": "https://localhost:8080/"
        },
        "id": "hyBfYqgQBtGA",
        "outputId": "37f73738-122c-40d1-c9e9-65b6eff18cb9"
      },
      "source": [
        "# r_wq_train_X, r_wq_test_X, r_wq_train_y, r_wq_test_y\r\n",
        "\r\n",
        "from sklearn.neighbors import KNeighborsClassifier\r\n",
        "knn = KNeighborsClassifier(n_neighbors = 8, metric = 'minkowski', p = 2) #p = 2 : euclidean_distance\r\n",
        "knn.fit(r_wq_train_X, r_wq_train_y)\r\n",
        "r_wq_knn_predictions = knn.predict(r_wq_test_X)\r\n",
        "\r\n",
        "print(classification_report(r_wq_test_y, r_wq_knn_predictions))\r\n",
        "print(confusion_matrix(r_wq_test_y, r_wq_knn_predictions))\r\n"
      ],
      "execution_count": null,
      "outputs": [
        {
          "output_type": "stream",
          "text": [
            "              precision    recall  f1-score   support\n",
            "\n",
            "        high       0.00      0.00      0.00         3\n",
            "         low       0.52      0.57      0.54       230\n",
            "      medium       0.56      0.53      0.54       247\n",
            "\n",
            "    accuracy                           0.54       480\n",
            "   macro avg       0.36      0.36      0.36       480\n",
            "weighted avg       0.54      0.54      0.54       480\n",
            "\n",
            "[[  0   1   2]\n",
            " [  0 130 100]\n",
            " [  0 117 130]]\n"
          ],
          "name": "stdout"
        },
        {
          "output_type": "stream",
          "text": [
            "/usr/local/lib/python3.7/dist-packages/sklearn/metrics/_classification.py:1272: UndefinedMetricWarning: Precision and F-score are ill-defined and being set to 0.0 in labels with no predicted samples. Use `zero_division` parameter to control this behavior.\n",
            "  _warn_prf(average, modifier, msg_start, len(result))\n"
          ],
          "name": "stderr"
        }
      ]
    },
    {
      "cell_type": "code",
      "metadata": {
        "colab": {
          "base_uri": "https://localhost:8080/"
        },
        "id": "gs4oA6p5FXOo",
        "outputId": "ff424ea8-ad6b-4faa-d065-b98eaa639b18"
      },
      "source": [
        "print('accuracy score:' + str(accuracy_score(r_wq_test_y,r_wq_knn_predictions))) #0.5416\r\n",
        "print ('kappa score:' + str(cohen_kappa_score(r_wq_test_y, r_wq_knn_predictions))) #0.0900"
      ],
      "execution_count": null,
      "outputs": [
        {
          "output_type": "stream",
          "text": [
            "accuracy score:0.5416666666666666\n",
            "kappa score:0.09009443716826371\n"
          ],
          "name": "stdout"
        }
      ]
    },
    {
      "cell_type": "code",
      "metadata": {
        "id": "d-1D-KMOEn_a"
      },
      "source": [
        "# find the optimal number of K\r\n",
        "\r\n",
        "# another version of k-nearest neighbors model: choosing an optimal K-value using elbow method\r\n",
        "error_rates = []\r\n",
        "\r\n",
        "for i in np.arange(1, 15): #first tried with 101 and found lowest point around 10-15\r\n",
        "    new_model = KNeighborsClassifier(n_neighbors = i)\r\n",
        "    new_model.fit(r_wq_train_X, r_wq_train_y)\r\n",
        "    new_predictions = new_model.predict(r_wq_test_X)\r\n",
        "    error_rates.append(np.mean(new_predictions != r_wq_test_y))\r\n",
        "\r\n",
        "plt.plot(error_rates)\r\n",
        "#- error rates tend to be minimized with a K value of approximately 8. \r\n",
        "# This means that 8 is a suitable choice for K that balances both simplicity and predictive power."
      ],
      "execution_count": null,
      "outputs": []
    },
    {
      "cell_type": "markdown",
      "metadata": {
        "id": "Nh9zUAkDBqr5"
      },
      "source": [
        "## Decision Tree"
      ]
    },
    {
      "cell_type": "code",
      "metadata": {
        "colab": {
          "base_uri": "https://localhost:8080/"
        },
        "id": "NhoQMVsYBkaD",
        "outputId": "fb885d5a-7cc8-4457-9ea0-c9e4ae296c2d"
      },
      "source": [
        "# r_wq_train_X, r_wq_test_X, r_wq_train_y, r_wq_test_y\r\n",
        "\r\n",
        "from sklearn.tree import DecisionTreeClassifier\r\n",
        "DT = DecisionTreeClassifier()\r\n",
        "DT.fit(r_wq_train_X, r_wq_train_y)\r\n",
        "\r\n",
        "r_wq_dt_predictions = DT.predict(r_wq_test_X)\r\n",
        "\r\n",
        "#Measure the performance of DT\r\n",
        "from sklearn.metrics import classification_report\r\n",
        "from sklearn.metrics import confusion_matrix\r\n",
        "\r\n",
        "print(classification_report(r_wq_test_y, r_wq_dt_predictions))\r\n",
        "print(confusion_matrix(r_wq_test_y, r_wq_dt_predictions))\r\n"
      ],
      "execution_count": null,
      "outputs": [
        {
          "output_type": "stream",
          "text": [
            "              precision    recall  f1-score   support\n",
            "\n",
            "        high       0.00      0.00      0.00         3\n",
            "         low       0.75      0.74      0.75       230\n",
            "      medium       0.76      0.76      0.76       247\n",
            "\n",
            "    accuracy                           0.75       480\n",
            "   macro avg       0.50      0.50      0.50       480\n",
            "weighted avg       0.75      0.75      0.75       480\n",
            "\n",
            "[[  0   0   3]\n",
            " [  2 171  57]\n",
            " [  3  56 188]]\n"
          ],
          "name": "stdout"
        }
      ]
    },
    {
      "cell_type": "code",
      "metadata": {
        "colab": {
          "base_uri": "https://localhost:8080/"
        },
        "id": "wR4lVHLCJPxK",
        "outputId": "3c7581c4-1dcd-4c3e-f5fb-6475b6174693"
      },
      "source": [
        "print('accuracy score:' + str(accuracy_score(r_wq_test_y,r_wq_dt_predictions))) #0.7520\r\n",
        "print ('kappa score:' + str(cohen_kappa_score(r_wq_test_y, r_wq_dt_predictions))) #0.5099"
      ],
      "execution_count": null,
      "outputs": [
        {
          "output_type": "stream",
          "text": [
            "accuracy score:0.7645833333333333\n",
            "kappa score:0.5336680652039343\n"
          ],
          "name": "stdout"
        }
      ]
    },
    {
      "cell_type": "markdown",
      "metadata": {
        "id": "ojEDeKAUcbOe"
      },
      "source": [
        "## feature importance"
      ]
    },
    {
      "cell_type": "code",
      "metadata": {
        "colab": {
          "base_uri": "https://localhost:8080/",
          "height": 295
        },
        "id": "qfVu01MGcZtz",
        "outputId": "c8f134ac-ea02-40f6-d7d3-de71860ddefd"
      },
      "source": [
        "# https://github.com/CodeAcademyBerlin/Data-Science/blob/master/Module%201/Week%204/Task4.md\r\n",
        "# feature selection by data type : https://machinelearningmastery.com/feature-selection-with-real-and-categorical-data/\r\n",
        "\r\n",
        "r_wq_dt_feature_importances = DT.feature_importances_\r\n",
        "w_feature_names, r_wq_dt_feature_scores = zip(*sorted(zip(w_feature_names,r_wq_dt_feature_importances), key=lambda x: x[1]))\r\n",
        "y_position = list(range(len(w_feature_names)))\r\n",
        "plt.barh(y_position, r_wq_dt_feature_scores, height=0.6, align='center')\r\n",
        "plt.yticks(y_position , w_feature_names)\r\n",
        "plt.xlabel('Relative Importance')\r\n",
        "plt.ylabel('Feature')\r\n",
        "t = plt.title('Feature Importances for Decision Tree (red wine)')"
      ],
      "execution_count": null,
      "outputs": [
        {
          "output_type": "display_data",
          "data": {
            "image/png": "[encoded data removed]",
            "text/plain": [
              "<Figure size 432x288 with 1 Axes>"
            ]
          },
          "metadata": {
            "tags": [],
            "needs_background": "light"
          }
        }
      ]
    },
    {
      "cell_type": "code",
      "metadata": {
        "colab": {
          "base_uri": "https://localhost:8080/"
        },
        "id": "t43lKGUol3i1",
        "outputId": "386bdc36-17c6-4ef8-a612-5ea776d784f3"
      },
      "source": [
        "r_wq_dt_feature_importances"
      ],
      "execution_count": null,
      "outputs": [
        {
          "output_type": "execute_result",
          "data": {
            "text/plain": [
              "array([0.0545053 , 0.12364733, 0.05840423, 0.06042798, 0.07601216,\n",
              "       0.05785194, 0.09534368, 0.06506272, 0.08330624, 0.11240514,\n",
              "       0.21303327])"
            ]
          },
          "metadata": {
            "tags": []
          },
          "execution_count": 28
        }
      ]
    },
    {
      "cell_type": "code",
      "metadata": {
        "colab": {
          "base_uri": "https://localhost:8080/",
          "height": 321
        },
        "id": "5ExCkCl-lmYm",
        "outputId": "d7516cb0-59f3-4570-f9a8-50d754664ea4"
      },
      "source": [
        "r_feature_imp = pd.Series(r_wq_dt_feature_importances,index=w_feature_names).sort_values(ascending=False)\r\n",
        "r_feature_imp"
      ],
      "execution_count": null,
      "outputs": [
        {
          "output_type": "error",
          "ename": "ValueError",
          "evalue": "ignored",
          "traceback": [
            "\u001b[0;31m---------------------------------------------------------------------------\u001b[0m",
            "\u001b[0;31mValueError\u001b[0m                                Traceback (most recent call last)",
            "\u001b[0;32m<ipython-input-29-b33d27c47d9f>\u001b[0m in \u001b[0;36m<module>\u001b[0;34m()\u001b[0m\n\u001b[0;32m----> 1\u001b[0;31m \u001b[0mr_feature_imp\u001b[0m \u001b[0;34m=\u001b[0m \u001b[0mpd\u001b[0m\u001b[0;34m.\u001b[0m\u001b[0mSeries\u001b[0m\u001b[0;34m(\u001b[0m\u001b[0mr_wq_dt_feature_importances\u001b[0m\u001b[0;34m,\u001b[0m\u001b[0mindex\u001b[0m\u001b[0;34m=\u001b[0m\u001b[0mw_feature_names\u001b[0m\u001b[0;34m)\u001b[0m\u001b[0;34m.\u001b[0m\u001b[0msort_values\u001b[0m\u001b[0;34m(\u001b[0m\u001b[0mascending\u001b[0m\u001b[0;34m=\u001b[0m\u001b[0;32mFalse\u001b[0m\u001b[0;34m)\u001b[0m\u001b[0;34m\u001b[0m\u001b[0;34m\u001b[0m\u001b[0m\n\u001b[0m\u001b[1;32m      2\u001b[0m \u001b[0mr_feature_imp\u001b[0m\u001b[0;34m\u001b[0m\u001b[0;34m\u001b[0m\u001b[0m\n",
            "\u001b[0;32m/usr/local/lib/python3.7/dist-packages/pandas/core/series.py\u001b[0m in \u001b[0;36m__init__\u001b[0;34m(self, data, index, dtype, name, copy, fastpath)\u001b[0m\n\u001b[1;32m    312\u001b[0m                     \u001b[0;32mif\u001b[0m \u001b[0mlen\u001b[0m\u001b[0;34m(\u001b[0m\u001b[0mindex\u001b[0m\u001b[0;34m)\u001b[0m \u001b[0;34m!=\u001b[0m \u001b[0mlen\u001b[0m\u001b[0;34m(\u001b[0m\u001b[0mdata\u001b[0m\u001b[0;34m)\u001b[0m\u001b[0;34m:\u001b[0m\u001b[0;34m\u001b[0m\u001b[0;34m\u001b[0m\u001b[0m\n\u001b[1;32m    313\u001b[0m                         raise ValueError(\n\u001b[0;32m--> 314\u001b[0;31m                             \u001b[0;34mf\"Length of passed values is {len(data)}, \"\u001b[0m\u001b[0;34m\u001b[0m\u001b[0;34m\u001b[0m\u001b[0m\n\u001b[0m\u001b[1;32m    315\u001b[0m                             \u001b[0;34mf\"index implies {len(index)}.\"\u001b[0m\u001b[0;34m\u001b[0m\u001b[0;34m\u001b[0m\u001b[0m\n\u001b[1;32m    316\u001b[0m                         )\n",
            "\u001b[0;31mValueError\u001b[0m: Length of passed values is 11, index implies 8."
          ]
        }
      ]
    },
    {
      "cell_type": "code",
      "metadata": {
        "colab": {
          "base_uri": "https://localhost:8080/"
        },
        "id": "-QIumszIfdYS",
        "outputId": "97e5f575-b4e7-4a85-8359-7bd6828d8edb"
      },
      "source": [
        "\r\n",
        "# classification feature selection\r\n",
        "# source: https://machinelearningmastery.com/feature-selection-with-real-and-categorical-data/\r\n",
        "\r\n",
        "# ANOVA feature selection for numeric input and categorical output\r\n",
        "from sklearn.datasets import make_classification\r\n",
        "from sklearn.feature_selection import SelectKBest\r\n",
        "from sklearn.feature_selection import f_classif\r\n",
        "# generate dataset\r\n",
        "\r\n",
        "# define feature selection\r\n",
        "fs = SelectKBest(score_func=f_classif, k=2)\r\n",
        "# apply feature selection\r\n",
        "X_selected = fs.fit_transform(X, y)\r\n",
        "print(X_selected.shape) #(1599, 2)\r\n"
      ],
      "execution_count": null,
      "outputs": [
        {
          "output_type": "stream",
          "text": [
            "(1599, 2)\n"
          ],
          "name": "stdout"
        }
      ]
    },
    {
      "cell_type": "code",
      "metadata": {
        "id": "FwZ0A5xSf-H5"
      },
      "source": [
        "# another feature selection ======not working\r\n",
        "\r\n",
        "# source: https://machinelearningmastery.com/feature-selection-with-real-and-categorical-data/\r\n",
        "\r\n",
        "# pearson's correlation feature selection for numeric input and numeric output\r\n",
        "from sklearn.datasets import make_regression\r\n",
        "from sklearn.feature_selection import SelectKBest\r\n",
        "from sklearn.feature_selection import f_regression\r\n",
        "\r\n",
        "# get independent and dependent variables \r\n",
        "w_features = wines_red.iloc[:,:-4]\r\n",
        "w_feature_names = w_features.columns\r\n",
        "\r\n",
        "X = w_features\r\n",
        "Y = wines_red[['quality']]\r\n",
        "\r\n",
        "# to get intercept -- this is optional\r\n",
        "# X = sm.add_constant(X)\r\n",
        "\r\n",
        "# define feature selection\r\n",
        "fs = SelectKBest(score_func=f_regression, k=5)\r\n",
        "# apply feature selection\r\n",
        "X_selected = fs.fit_transform(X, Y)\r\n",
        "print(X_selected.shape)"
      ],
      "execution_count": null,
      "outputs": []
    },
    {
      "cell_type": "markdown",
      "metadata": {
        "id": "mwTGwRH3z9Fk"
      },
      "source": [
        "# ========="
      ]
    },
    {
      "cell_type": "markdown",
      "metadata": {
        "id": "-US6jK6N0GCb"
      },
      "source": [
        "# scattor plot - comparison of predicted price vs. actual price"
      ]
    },
    {
      "cell_type": "code",
      "metadata": {
        "colab": {
          "base_uri": "https://localhost:8080/",
          "height": 206
        },
        "id": "rMbEywD60Fms",
        "outputId": "a7f993f9-748a-4617-a720-429c96f5645c"
      },
      "source": [
        "# actual price - white wine \r\n",
        "\r\n",
        "raw_data = pd.read_csv('/content/drive/MyDrive/Colab Notebooks/data/wines_sales_prep.csv', sep=\",\", index_col=[0])\r\n",
        "raw_data.drop(raw_data.columns[raw_data.columns.str.contains('unnamed',case = False)],axis = 1, inplace = True)\r\n",
        "df_sales = raw_data\r\n",
        "\r\n",
        "df_sales.head(5)"
      ],
      "execution_count": null,
      "outputs": [
        {
          "output_type": "execute_result",
          "data": {
            "text/html": [
              "<div>\n",
              "<style scoped>\n",
              "    .dataframe tbody tr th:only-of-type {\n",
              "        vertical-align: middle;\n",
              "    }\n",
              "\n",
              "    .dataframe tbody tr th {\n",
              "        vertical-align: top;\n",
              "    }\n",
              "\n",
              "    .dataframe thead th {\n",
              "        text-align: right;\n",
              "    }\n",
              "</style>\n",
              "<table border=\"1\" class=\"dataframe\">\n",
              "  <thead>\n",
              "    <tr style=\"text-align: right;\">\n",
              "      <th></th>\n",
              "      <th>country</th>\n",
              "      <th>designation</th>\n",
              "      <th>points</th>\n",
              "      <th>price</th>\n",
              "      <th>province</th>\n",
              "      <th>variety</th>\n",
              "      <th>winery</th>\n",
              "      <th>rating</th>\n",
              "      <th>price_bin</th>\n",
              "      <th>rating_n</th>\n",
              "      <th>price_bin_n</th>\n",
              "      <th>wine_type</th>\n",
              "    </tr>\n",
              "  </thead>\n",
              "  <tbody>\n",
              "    <tr>\n",
              "      <th>1</th>\n",
              "      <td>Portugal</td>\n",
              "      <td>Campelo</td>\n",
              "      <td>85</td>\n",
              "      <td>10</td>\n",
              "      <td>Vinho Verde</td>\n",
              "      <td>Portuguese White</td>\n",
              "      <td>Caves Campelo</td>\n",
              "      <td>medium</td>\n",
              "      <td>medium</td>\n",
              "      <td>2</td>\n",
              "      <td>2</td>\n",
              "      <td>white</td>\n",
              "    </tr>\n",
              "    <tr>\n",
              "      <th>2</th>\n",
              "      <td>Portugal</td>\n",
              "      <td>Miranda</td>\n",
              "      <td>85</td>\n",
              "      <td>9</td>\n",
              "      <td>Vinho Verde</td>\n",
              "      <td>Portuguese White</td>\n",
              "      <td>Caves Campelo</td>\n",
              "      <td>medium</td>\n",
              "      <td>medium</td>\n",
              "      <td>2</td>\n",
              "      <td>2</td>\n",
              "      <td>white</td>\n",
              "    </tr>\n",
              "    <tr>\n",
              "      <th>3</th>\n",
              "      <td>Portugal</td>\n",
              "      <td>Daphne</td>\n",
              "      <td>91</td>\n",
              "      <td>9</td>\n",
              "      <td>Vinho Verde</td>\n",
              "      <td>Loureiro</td>\n",
              "      <td>Casal Paço Padreiro</td>\n",
              "      <td>high</td>\n",
              "      <td>medium</td>\n",
              "      <td>0</td>\n",
              "      <td>2</td>\n",
              "      <td>white</td>\n",
              "    </tr>\n",
              "    <tr>\n",
              "      <th>5</th>\n",
              "      <td>Portugal</td>\n",
              "      <td>Casal da Seara</td>\n",
              "      <td>84</td>\n",
              "      <td>10</td>\n",
              "      <td>Vinho Verde</td>\n",
              "      <td>Portuguese White</td>\n",
              "      <td>Caves Campelo</td>\n",
              "      <td>medium</td>\n",
              "      <td>medium</td>\n",
              "      <td>2</td>\n",
              "      <td>2</td>\n",
              "      <td>white</td>\n",
              "    </tr>\n",
              "    <tr>\n",
              "      <th>6</th>\n",
              "      <td>Portugal</td>\n",
              "      <td>Torre de Vila Nova</td>\n",
              "      <td>88</td>\n",
              "      <td>12</td>\n",
              "      <td>Vinho Verde</td>\n",
              "      <td>Portuguese White</td>\n",
              "      <td>Casa de Vila Nova</td>\n",
              "      <td>high</td>\n",
              "      <td>medium</td>\n",
              "      <td>0</td>\n",
              "      <td>2</td>\n",
              "      <td>white</td>\n",
              "    </tr>\n",
              "  </tbody>\n",
              "</table>\n",
              "</div>"
            ],
            "text/plain": [
              "    country         designation  points  ...  rating_n price_bin_n wine_type\n",
              "1  Portugal             Campelo      85  ...         2           2     white\n",
              "2  Portugal             Miranda      85  ...         2           2     white\n",
              "3  Portugal              Daphne      91  ...         0           2     white\n",
              "5  Portugal      Casal da Seara      84  ...         2           2     white\n",
              "6  Portugal  Torre de Vila Nova      88  ...         0           2     white\n",
              "\n",
              "[5 rows x 12 columns]"
            ]
          },
          "metadata": {
            "tags": []
          },
          "execution_count": 150
        }
      ]
    },
    {
      "cell_type": "code",
      "metadata": {
        "colab": {
          "base_uri": "https://localhost:8080/"
        },
        "id": "ZP32DOuk8jxn",
        "outputId": "4d8dd62d-4524-4ef1-e6a8-35a99e5ded94"
      },
      "source": [
        "df_sales['wine_type'].isnull().value_counts()"
      ],
      "execution_count": null,
      "outputs": [
        {
          "output_type": "execute_result",
          "data": {
            "text/plain": [
              "False    315\n",
              "Name: wine_type, dtype: int64"
            ]
          },
          "metadata": {
            "tags": []
          },
          "execution_count": 144
        }
      ]
    },
    {
      "cell_type": "code",
      "metadata": {
        "colab": {
          "base_uri": "https://localhost:8080/",
          "height": 360
        },
        "id": "OFINYvoX9WRO",
        "outputId": "642f0be6-a3d4-48b9-d8f6-0fef569a41fc"
      },
      "source": [
        "\r\n",
        "#create scatterplot with regression line\r\n",
        "x = df_sales['points']\r\n",
        "y = df_sales['price']\r\n",
        "sns.regplot(x, y)"
      ],
      "execution_count": null,
      "outputs": [
        {
          "output_type": "stream",
          "text": [
            "/usr/local/lib/python3.7/dist-packages/seaborn/_decorators.py:43: FutureWarning: Pass the following variables as keyword args: x, y. From version 0.12, the only valid positional argument will be `data`, and passing other arguments without an explicit keyword will result in an error or misinterpretation.\n",
            "  FutureWarning\n"
          ],
          "name": "stderr"
        },
        {
          "output_type": "execute_result",
          "data": {
            "text/plain": [
              "<matplotlib.axes._subplots.AxesSubplot at 0x7fb83c2a9110>"
            ]
          },
          "metadata": {
            "tags": []
          },
          "execution_count": 152
        },
        {
          "output_type": "display_data",
          "data": {
            "image/png": "[encoded data removed]",
            "text/plain": [
              "<Figure size 432x288 with 1 Axes>"
            ]
          },
          "metadata": {
            "tags": []
          }
        }
      ]
    },
    {
      "cell_type": "code",
      "metadata": {
        "colab": {
          "base_uri": "https://localhost:8080/",
          "height": 439
        },
        "id": "rHEcSa7U4CCu",
        "outputId": "35602d2a-81b3-4061-a188-1fe634dba622"
      },
      "source": [
        "import seaborn as sns\r\n",
        "import matplotlib.pyplot as plt\r\n",
        "sns.set_theme(style=\"whitegrid\")\r\n",
        "\r\n",
        "# Draw a scatter plot while assigning point colors and sizes to different\r\n",
        "# variables in the dataset\r\n",
        "f, ax = plt.subplots(figsize=(6.5, 6.5))\r\n",
        "sns.despine(f, left=True, bottom=True)\r\n",
        "sns.color_palette(\"ch:start=.2,rot=-.3\", as_cmap=True)\r\n",
        "price_bin = [\"high\", \"medium\", \"low\"]\r\n",
        "sns.scatterplot(x=\"points\", y=\"price\",\r\n",
        "                #hue=\"wine_type\", #size=\"rating_n\",\r\n",
        "                #palette=SlateGrey, #\"ch:r=-.2,d=.3_r\",\r\n",
        "                hue_order=\"price_bin\",\r\n",
        "                linewidth=0,\r\n",
        "                data=df_sales, ax=ax)"
      ],
      "execution_count": null,
      "outputs": [
        {
          "output_type": "execute_result",
          "data": {
            "text/plain": [
              "<matplotlib.axes._subplots.AxesSubplot at 0x7fb83c633d10>"
            ]
          },
          "metadata": {
            "tags": []
          },
          "execution_count": 158
        },
        {
          "output_type": "display_data",
          "data": {
            "image/png": "[encoded data removed]",
            "text/plain": [
              "<Figure size 468x468 with 1 Axes>"
            ]
          },
          "metadata": {
            "tags": []
          }
        }
      ]
    },
    {
      "cell_type": "code",
      "metadata": {
        "colab": {
          "base_uri": "https://localhost:8080/",
          "height": 287
        },
        "id": "13W5WEQOBIRH",
        "outputId": "6ffa508f-c6f4-4285-c5a2-d17f2dc528d5"
      },
      "source": [
        "df_sales['price'].hist()"
      ],
      "execution_count": null,
      "outputs": [
        {
          "output_type": "execute_result",
          "data": {
            "text/plain": [
              "<matplotlib.axes._subplots.AxesSubplot at 0x7fb83b45d090>"
            ]
          },
          "metadata": {
            "tags": []
          },
          "execution_count": 167
        },
        {
          "output_type": "display_data",
          "data": {
            "image/png": "[encoded data removed]",
            "text/plain": [
              "<Figure size 432x288 with 1 Axes>"
            ]
          },
          "metadata": {
            "tags": []
          }
        }
      ]
    },
    {
      "cell_type": "code",
      "metadata": {
        "colab": {
          "base_uri": "https://localhost:8080/",
          "height": 285
        },
        "id": "nwN9kNA7AYDe",
        "outputId": "4e958713-9d6e-41b1-8459-20af415b662d"
      },
      "source": [
        "# coefficient of linear model: from points to price (from cross validated)\r\n",
        "from sklearn import datasets\r\n",
        "from sklearn.model_selection import cross_val_predict\r\n",
        "from sklearn import linear_model\r\n",
        "import matplotlib.pyplot as plt\r\n",
        "\r\n",
        "lr = linear_model.LinearRegression()\r\n",
        "X = df_sales['points']\r\n",
        "y = df_sales['price']\r\n",
        "#X, y = datasets.load_diabetes(return_X_y=True)\r\n",
        "\r\n",
        "# standardization\r\n",
        "#scaler = MinMaxScaler()\r\n",
        "sc = StandardScaler()\r\n",
        "X = np.array(X)\r\n",
        "X_scaled = sc.fit_transform(X.reshape(-1,1))\r\n",
        "\r\n",
        "# cross_val_predict returns an array of the same size as `y` where each entry\r\n",
        "# is a prediction obtained by cross validation:\r\n",
        "predicted = cross_val_predict(lr, X_scaled, y, cv=10)\r\n",
        "\r\n",
        "fig, ax = plt.subplots()\r\n",
        "ax.scatter(y, predicted, edgecolors=(0, 0, 0))\r\n",
        "ax.plot([y.min(), y.max()], [y.min(), y.max()], 'k--', lw=4)\r\n",
        "ax.set_xlabel('Rating')\r\n",
        "ax.set_ylabel('Price')\r\n",
        "plt.show()"
      ],
      "execution_count": null,
      "outputs": [
        {
          "output_type": "display_data",
          "data": {
            "image/png": "[encoded data removed]",
            "text/plain": [
              "<Figure size 432x288 with 1 Axes>"
            ]
          },
          "metadata": {
            "tags": []
          }
        }
      ]
    },
    {
      "cell_type": "markdown",
      "metadata": {
        "id": "DY7x9V5JHV2d"
      },
      "source": [
        "## sales data - mean, min, max"
      ]
    },
    {
      "cell_type": "code",
      "metadata": {
        "id": "s9etjAC4FHhE"
      },
      "source": [
        "df_sales_white = df_sales[df_sales['wine_type'] == 'white']\r\n",
        "df_sales_white\r\n",
        "\r\n",
        "df_sales_w_price_mean = pd.DataFrame(df_sales_white.groupby('price_bin')['price'].mean())\r\n",
        "print('price_mean_white')\r\n",
        "print(df_sales_w_price_mean)\r\n",
        "df_sales_w_price_min = df_sales_white.groupby('price_bin')['price'].min()\r\n",
        "df_sales_w_price_max = df_sales_white.groupby('price_bin')['price'].max()\r\n",
        "print('min_white')\r\n",
        "print(df_sales_w_price_min)\r\n",
        "print('max_white')\r\n",
        "print(df_sales_w_price_max)"
      ],
      "execution_count": null,
      "outputs": []
    },
    {
      "cell_type": "code",
      "metadata": {
        "colab": {
          "base_uri": "https://localhost:8080/"
        },
        "id": "GEDq-fhgGXQG",
        "outputId": "5dbe48ba-c9d6-4765-d773-3ae83a1031a0"
      },
      "source": [
        "df_sales_red = df_sales[df_sales['wine_type'] == 'red']\r\n",
        "df_sales_red\r\n",
        "\r\n",
        "df_sales_w_price_mean = pd.DataFrame(df_sales_red.groupby('price_bin')['price'].mean())\r\n",
        "print('price_mean_red')\r\n",
        "print(df_sales_w_price_mean)\r\n",
        "df_sales_w_price_min = df_sales_red.groupby('price_bin')['price'].min()\r\n",
        "df_sales_w_price_max = df_sales_red.groupby('price_bin')['price'].max()\r\n",
        "print('min_red')\r\n",
        "print(df_sales_w_price_min)\r\n",
        "print('max_red')\r\n",
        "print(df_sales_w_price_max)"
      ],
      "execution_count": null,
      "outputs": [
        {
          "output_type": "stream",
          "text": [
            "price_mean_red\n",
            "           price\n",
            "price_bin       \n",
            "low          5.0\n",
            "medium       9.5\n",
            "min_red\n",
            "price_bin\n",
            "low       5\n",
            "medium    9\n",
            "Name: price, dtype: int64\n",
            "max_red\n",
            "price_bin\n",
            "low        5\n",
            "medium    10\n",
            "Name: price, dtype: int64\n"
          ],
          "name": "stdout"
        }
      ]
    },
    {
      "cell_type": "markdown",
      "metadata": {
        "id": "65jFYY7ZHZco"
      },
      "source": [
        "# predicted price"
      ]
    },
    {
      "cell_type": "code",
      "metadata": {
        "colab": {
          "base_uri": "https://localhost:8080/"
        },
        "id": "K6VQvEBvDino",
        "outputId": "ebd65d4b-ec3c-4f91-a512-74c2a1d7672d"
      },
      "source": [
        "# coefficient from linear model predicting price from quality \r\n",
        "\r\n",
        "reg = LinearRegression().fit(X_scaled, y)\r\n",
        "print('coef (price>quality):' + str(reg.coef_)) #array([1.27177039])\r\n",
        "print('intercept (price>quality):' +str(reg.intercept_))"
      ],
      "execution_count": null,
      "outputs": [
        {
          "output_type": "stream",
          "text": [
            "coef (price>quality):[1.27177039]\n",
            "intercept (price>quality):9.885714285714288\n"
          ],
          "name": "stdout"
        }
      ]
    },
    {
      "cell_type": "code",
      "metadata": {
        "colab": {
          "base_uri": "https://localhost:8080/",
          "height": 241
        },
        "id": "VaYihwm30a_z",
        "outputId": "4de8f663-8290-4440-86da-08bb58386845"
      },
      "source": [
        "# predicted price - white wine - random forest\r\n",
        "# predicted price - red wine - random forest\r\n",
        "\r\n",
        "raw_white = pd.read_csv('/content/drive/MyDrive/Colab Notebooks/data/wines_white.csv', sep=\",\", index_col=[0])\r\n",
        "raw_white.drop(raw_white.columns[raw_white.columns.str.contains('unnamed',case = False)],axis = 1, inplace = True)\r\n",
        "df_white_price = raw_white\r\n",
        "df_white_price.head(5)\r\n",
        "\r\n",
        "df_white_price['price_est'] = df_white_price['wine_quality_N']\r\n",
        "df_white_price['price_est']"
      ],
      "execution_count": null,
      "outputs": [
        {
          "output_type": "execute_result",
          "data": {
            "text/html": [
              "<div>\n",
              "<style scoped>\n",
              "    .dataframe tbody tr th:only-of-type {\n",
              "        vertical-align: middle;\n",
              "    }\n",
              "\n",
              "    .dataframe tbody tr th {\n",
              "        vertical-align: top;\n",
              "    }\n",
              "\n",
              "    .dataframe thead th {\n",
              "        text-align: right;\n",
              "    }\n",
              "</style>\n",
              "<table border=\"1\" class=\"dataframe\">\n",
              "  <thead>\n",
              "    <tr style=\"text-align: right;\">\n",
              "      <th></th>\n",
              "      <th>fixed acidity</th>\n",
              "      <th>volatile acidity</th>\n",
              "      <th>citric acid</th>\n",
              "      <th>residual sugar</th>\n",
              "      <th>chlorides</th>\n",
              "      <th>free sulfur dioxide</th>\n",
              "      <th>total sulfur dioxide</th>\n",
              "      <th>density</th>\n",
              "      <th>pH</th>\n",
              "      <th>sulphates</th>\n",
              "      <th>alcohol</th>\n",
              "      <th>quality</th>\n",
              "      <th>wine_type</th>\n",
              "      <th>quality_label</th>\n",
              "      <th>wine_quality_N</th>\n",
              "    </tr>\n",
              "  </thead>\n",
              "  <tbody>\n",
              "    <tr>\n",
              "      <th>0</th>\n",
              "      <td>7.0</td>\n",
              "      <td>0.17</td>\n",
              "      <td>0.74</td>\n",
              "      <td>12.8</td>\n",
              "      <td>0.045</td>\n",
              "      <td>24.0</td>\n",
              "      <td>126.0</td>\n",
              "      <td>0.99420</td>\n",
              "      <td>3.26</td>\n",
              "      <td>0.38</td>\n",
              "      <td>12.2</td>\n",
              "      <td>8</td>\n",
              "      <td>white</td>\n",
              "      <td>high</td>\n",
              "      <td>0</td>\n",
              "    </tr>\n",
              "    <tr>\n",
              "      <th>2</th>\n",
              "      <td>6.8</td>\n",
              "      <td>0.39</td>\n",
              "      <td>0.34</td>\n",
              "      <td>7.4</td>\n",
              "      <td>0.020</td>\n",
              "      <td>38.0</td>\n",
              "      <td>133.0</td>\n",
              "      <td>0.99212</td>\n",
              "      <td>3.18</td>\n",
              "      <td>0.44</td>\n",
              "      <td>12.0</td>\n",
              "      <td>7</td>\n",
              "      <td>white</td>\n",
              "      <td>medium</td>\n",
              "      <td>2</td>\n",
              "    </tr>\n",
              "    <tr>\n",
              "      <th>3</th>\n",
              "      <td>6.3</td>\n",
              "      <td>0.28</td>\n",
              "      <td>0.47</td>\n",
              "      <td>11.2</td>\n",
              "      <td>0.040</td>\n",
              "      <td>61.0</td>\n",
              "      <td>183.0</td>\n",
              "      <td>0.99592</td>\n",
              "      <td>3.12</td>\n",
              "      <td>0.51</td>\n",
              "      <td>9.5</td>\n",
              "      <td>6</td>\n",
              "      <td>white</td>\n",
              "      <td>medium</td>\n",
              "      <td>2</td>\n",
              "    </tr>\n",
              "    <tr>\n",
              "      <th>4</th>\n",
              "      <td>7.4</td>\n",
              "      <td>0.35</td>\n",
              "      <td>0.20</td>\n",
              "      <td>13.9</td>\n",
              "      <td>0.054</td>\n",
              "      <td>63.0</td>\n",
              "      <td>229.0</td>\n",
              "      <td>0.99888</td>\n",
              "      <td>3.11</td>\n",
              "      <td>0.50</td>\n",
              "      <td>8.9</td>\n",
              "      <td>6</td>\n",
              "      <td>white</td>\n",
              "      <td>medium</td>\n",
              "      <td>2</td>\n",
              "    </tr>\n",
              "    <tr>\n",
              "      <th>6</th>\n",
              "      <td>7.5</td>\n",
              "      <td>0.27</td>\n",
              "      <td>0.31</td>\n",
              "      <td>17.7</td>\n",
              "      <td>0.051</td>\n",
              "      <td>33.0</td>\n",
              "      <td>173.0</td>\n",
              "      <td>0.99900</td>\n",
              "      <td>3.09</td>\n",
              "      <td>0.64</td>\n",
              "      <td>10.2</td>\n",
              "      <td>5</td>\n",
              "      <td>white</td>\n",
              "      <td>low</td>\n",
              "      <td>1</td>\n",
              "    </tr>\n",
              "  </tbody>\n",
              "</table>\n",
              "</div>"
            ],
            "text/plain": [
              "   fixed acidity  volatile acidity  ...  quality_label  wine_quality_N\n",
              "0            7.0              0.17  ...           high               0\n",
              "2            6.8              0.39  ...         medium               2\n",
              "3            6.3              0.28  ...         medium               2\n",
              "4            7.4              0.35  ...         medium               2\n",
              "6            7.5              0.27  ...            low               1\n",
              "\n",
              "[5 rows x 15 columns]"
            ]
          },
          "metadata": {
            "tags": []
          },
          "execution_count": 161
        }
      ]
    },
    {
      "cell_type": "code",
      "metadata": {
        "id": "7VtVVJyd0dId"
      },
      "source": [
        "\r\n",
        "# if you give us composition of wine, machine  will predict the quality of wine, and we suggest you to rate the wine using this range of price. This criteria is suggested from another dataset. \r\n",
        "\r\n",
        "# source: https://machinelearningmastery.com/how-to-prepare-categorical-data-for-deep-learning-in-python/\r\n",
        "\r\n",
        "\r\n"
      ],
      "execution_count": null,
      "outputs": []
    },
    {
      "cell_type": "markdown",
      "metadata": {
        "id": "OrI4z81S0D8B"
      },
      "source": [
        "# ================="
      ]
    },
    {
      "cell_type": "markdown",
      "metadata": {
        "id": "23ZPQkH4lgIi"
      },
      "source": [
        "# Modelling - comparison algorithms for wine_price_tag"
      ]
    },
    {
      "cell_type": "code",
      "metadata": {
        "id": "oWWornOjl22h"
      },
      "source": [
        "# wpr_train_X, wpr_test_X, wpr_train_y, wpr_test_y\r\n",
        "\r\n",
        "# Compare Algorithms\r\n",
        "from sklearn import model_selection\r\n",
        "from sklearn.linear_model import LogisticRegression\r\n",
        "from sklearn.tree import DecisionTreeClassifier\r\n",
        "from sklearn.ensemble import RandomForestClassifier\r\n",
        "from sklearn.neighbors import KNeighborsClassifier\r\n",
        "from sklearn.discriminant_analysis import LinearDiscriminantAnalysis\r\n",
        "from sklearn.naive_bayes import GaussianNB\r\n",
        "from sklearn.svm import SVC"
      ],
      "execution_count": null,
      "outputs": []
    },
    {
      "cell_type": "code",
      "metadata": {
        "id": "xoFBkPBB6JOM"
      },
      "source": [
        "# load dataset\r\n",
        "# set IV and DV\r\n",
        "X = df_feature\r\n",
        "Y = df_price\r\n",
        "\r\n",
        "# prepare configuration for cross validation test harness\r\n",
        "seed = 10\r\n",
        "# prepare models\r\n",
        "models = []\r\n",
        "models.append(('LR', LogisticRegression()))\r\n",
        "models.append(('KNN', KNeighborsClassifier(n_neighbors = 20)))\r\n",
        "models.append(('RF', RandomForestClassifier()))\r\n",
        "models.append(('CART', DecisionTreeClassifier()))\r\n",
        "models.append(('SVM', SVC()))"
      ],
      "execution_count": null,
      "outputs": []
    },
    {
      "cell_type": "code",
      "metadata": {
        "id": "9PXLB0WS6JX6"
      },
      "source": [
        "# evaluate each model in turn - wine_quality\r\n",
        "results = []\r\n",
        "names = []\r\n",
        "scoring = 'accuracy'\r\n",
        "for name, model in models:\r\n",
        "\tkfold = model_selection.KFold(n_splits=10, random_state=42, shuffle=True)\r\n",
        "\tcv_results = model_selection.cross_val_score(model, X, Y, cv=kfold, scoring=scoring)\r\n",
        "\tresults.append(cv_results)\r\n",
        "\tnames.append(name)\r\n",
        "\tmsg = \"%s: %f (%f)\" % (name, cv_results.mean(), cv_results.std())\r\n",
        "\tprint(msg)\r\n",
        " \r\n",
        "# boxplot algorithm comparison\r\n",
        "fig = plt.figure()\r\n",
        "fig.suptitle('Algorithm Comparison')\r\n",
        "ax = fig.add_subplot(111)\r\n",
        "plt.boxplot(results)\r\n",
        "ax.set_xticklabels(names)\r\n",
        "plt.show()\r\n",
        "\r\n",
        "# output\r\n",
        "# LR: 0.619521 (0.022164)\r\n",
        "# KNN: 0.587043 (0.018804)\r\n",
        "# RF: 0.814684 (0.011133)\r\n",
        "# CART: 0.729568 (0.019463)\r\n",
        "# SVM: 0.602586 (0.022230)"
      ],
      "execution_count": null,
      "outputs": []
    },
    {
      "cell_type": "code",
      "metadata": {
        "id": "Xpa5HFIdl3kx"
      },
      "source": [],
      "execution_count": null,
      "outputs": []
    },
    {
      "cell_type": "code",
      "metadata": {
        "id": "PYJCvx0Xl4TC"
      },
      "source": [
        "#from sklearn.metrics import cohen_kappa_score\r\n",
        "#cohen_kappa_score(labels_of_testing_set, predictions)\r\n"
      ],
      "execution_count": null,
      "outputs": []
    },
    {
      "cell_type": "markdown",
      "metadata": {
        "id": "OzCKcA9llG-W"
      },
      "source": [
        "# Modelling : predicting price from quality, using RF/LR/KNN/SVM"
      ]
    },
    {
      "cell_type": "markdown",
      "metadata": {
        "id": "tpqyCrT9NO9P"
      },
      "source": [
        "# sales data exploration"
      ]
    },
    {
      "cell_type": "code",
      "metadata": {
        "id": "uOg3AdrvNRYc"
      },
      "source": [
        "# load filtered dataset\r\n",
        "raw = pd.read_csv(\"/content/drive/MyDrive/Colab Notebooks/data/wine_sales_data.csv\", sep=\",\", index_col = [0])\r\n",
        "\r\n",
        "# re-shuffle records just to randomize data points\r\n",
        "df_sales_all = raw.sample(frac=1, random_state=42).reset_index(drop=True)"
      ],
      "execution_count": null,
      "outputs": []
    },
    {
      "cell_type": "code",
      "metadata": {
        "id": "OLvAp7sWN6PT"
      },
      "source": [
        "df_sales_target = df_sales_all[['country', 'description', 'points', 'price', 'variety']]"
      ],
      "execution_count": null,
      "outputs": []
    },
    {
      "cell_type": "code",
      "metadata": {
        "id": "GkzMSbJNOMGc"
      },
      "source": [
        "df_sales_target.describe() \r\n",
        "#df_sales_all.info #[150930 rows x 11 columns]"
      ],
      "execution_count": null,
      "outputs": []
    },
    {
      "cell_type": "code",
      "metadata": {
        "colab": {
          "base_uri": "https://localhost:8080/"
        },
        "id": "Otf8V0i6PwpN",
        "outputId": "00ebd516-0314-4370-a4af-a74e13c9224d"
      },
      "source": [
        "df_sales_target['country'] "
      ],
      "execution_count": null,
      "outputs": [
        {
          "output_type": "execute_result",
          "data": {
            "text/plain": [
              "0         Argentina\n",
              "1           Germany\n",
              "2                US\n",
              "3             Chile\n",
              "4                US\n",
              "            ...    \n",
              "150925           US\n",
              "150926       France\n",
              "150927           US\n",
              "150928      Germany\n",
              "150929       France\n",
              "Name: country, Length: 150930, dtype: object"
            ]
          },
          "metadata": {
            "tags": []
          },
          "execution_count": 243
        }
      ]
    },
    {
      "cell_type": "code",
      "metadata": {
        "colab": {
          "base_uri": "https://localhost:8080/"
        },
        "id": "oGeXFKUZSOz_",
        "outputId": "f20f0d88-4d22-4209-d309-f817e930627f"
      },
      "source": [
        "df_sales_target['country'].value_counts()"
      ],
      "execution_count": null,
      "outputs": [
        {
          "output_type": "execute_result",
          "data": {
            "text/plain": [
              "US                        62397\n",
              "Italy                     23478\n",
              "France                    21098\n",
              "Spain                      8268\n",
              "Chile                      5816\n",
              "Argentina                  5631\n",
              "Portugal                   5322\n",
              "Australia                  4957\n",
              "New Zealand                3320\n",
              "Austria                    3057\n",
              "Germany                    2452\n",
              "South Africa               2258\n",
              "Greece                      884\n",
              "Israel                      630\n",
              "Hungary                     231\n",
              "Canada                      196\n",
              "Romania                     139\n",
              "Slovenia                     94\n",
              "Uruguay                      92\n",
              "Croatia                      89\n",
              "Bulgaria                     77\n",
              "Moldova                      71\n",
              "Mexico                       63\n",
              "Turkey                       52\n",
              "Georgia                      43\n",
              "Lebanon                      37\n",
              "Cyprus                       31\n",
              "Brazil                       25\n",
              "Macedonia                    16\n",
              "Serbia                       14\n",
              "Morocco                      12\n",
              "England                       9\n",
              "Luxembourg                    9\n",
              "Lithuania                     8\n",
              "India                         8\n",
              "Czech Republic                6\n",
              "Ukraine                       5\n",
              "Switzerland                   4\n",
              "Bosnia and Herzegovina        4\n",
              "South Korea                   4\n",
              "Egypt                         3\n",
              "Slovakia                      3\n",
              "China                         3\n",
              "Tunisia                       2\n",
              "Japan                         2\n",
              "Montenegro                    2\n",
              "Albania                       2\n",
              "US-France                     1\n",
              "Name: country, dtype: int64"
            ]
          },
          "metadata": {
            "tags": []
          },
          "execution_count": 244
        }
      ]
    },
    {
      "cell_type": "code",
      "metadata": {
        "colab": {
          "base_uri": "https://localhost:8080/",
          "height": 488
        },
        "id": "7YVuO0tlSXPJ",
        "outputId": "1ae6facb-f050-4318-eca9-5c9c7ab3101e"
      },
      "source": [
        "sales_country = pd.DataFrame(df_sales_target['country'].value_counts())\r\n",
        "sales_country = sales_country.head(14)\r\n",
        "sales_country"
      ],
      "execution_count": null,
      "outputs": [
        {
          "output_type": "execute_result",
          "data": {
            "text/html": [
              "<div>\n",
              "<style scoped>\n",
              "    .dataframe tbody tr th:only-of-type {\n",
              "        vertical-align: middle;\n",
              "    }\n",
              "\n",
              "    .dataframe tbody tr th {\n",
              "        vertical-align: top;\n",
              "    }\n",
              "\n",
              "    .dataframe thead th {\n",
              "        text-align: right;\n",
              "    }\n",
              "</style>\n",
              "<table border=\"1\" class=\"dataframe\">\n",
              "  <thead>\n",
              "    <tr style=\"text-align: right;\">\n",
              "      <th></th>\n",
              "      <th>country</th>\n",
              "    </tr>\n",
              "  </thead>\n",
              "  <tbody>\n",
              "    <tr>\n",
              "      <th>US</th>\n",
              "      <td>62397</td>\n",
              "    </tr>\n",
              "    <tr>\n",
              "      <th>Italy</th>\n",
              "      <td>23478</td>\n",
              "    </tr>\n",
              "    <tr>\n",
              "      <th>France</th>\n",
              "      <td>21098</td>\n",
              "    </tr>\n",
              "    <tr>\n",
              "      <th>Spain</th>\n",
              "      <td>8268</td>\n",
              "    </tr>\n",
              "    <tr>\n",
              "      <th>Chile</th>\n",
              "      <td>5816</td>\n",
              "    </tr>\n",
              "    <tr>\n",
              "      <th>Argentina</th>\n",
              "      <td>5631</td>\n",
              "    </tr>\n",
              "    <tr>\n",
              "      <th>Portugal</th>\n",
              "      <td>5322</td>\n",
              "    </tr>\n",
              "    <tr>\n",
              "      <th>Australia</th>\n",
              "      <td>4957</td>\n",
              "    </tr>\n",
              "    <tr>\n",
              "      <th>New Zealand</th>\n",
              "      <td>3320</td>\n",
              "    </tr>\n",
              "    <tr>\n",
              "      <th>Austria</th>\n",
              "      <td>3057</td>\n",
              "    </tr>\n",
              "    <tr>\n",
              "      <th>Germany</th>\n",
              "      <td>2452</td>\n",
              "    </tr>\n",
              "    <tr>\n",
              "      <th>South Africa</th>\n",
              "      <td>2258</td>\n",
              "    </tr>\n",
              "    <tr>\n",
              "      <th>Greece</th>\n",
              "      <td>884</td>\n",
              "    </tr>\n",
              "    <tr>\n",
              "      <th>Israel</th>\n",
              "      <td>630</td>\n",
              "    </tr>\n",
              "  </tbody>\n",
              "</table>\n",
              "</div>"
            ],
            "text/plain": [
              "              country\n",
              "US              62397\n",
              "Italy           23478\n",
              "France          21098\n",
              "Spain            8268\n",
              "Chile            5816\n",
              "Argentina        5631\n",
              "Portugal         5322\n",
              "Australia        4957\n",
              "New Zealand      3320\n",
              "Austria          3057\n",
              "Germany          2452\n",
              "South Africa     2258\n",
              "Greece            884\n",
              "Israel            630"
            ]
          },
          "metadata": {
            "tags": []
          },
          "execution_count": 264
        }
      ]
    },
    {
      "cell_type": "code",
      "metadata": {
        "colab": {
          "base_uri": "https://localhost:8080/"
        },
        "id": "8yNpALyaPUnx",
        "outputId": "c451912b-7bf7-412a-d560-3754b70b175c"
      },
      "source": [
        "target_country = list(df_sales_target['country'].value_counts().index[0:14])\r\n",
        "target_country"
      ],
      "execution_count": null,
      "outputs": [
        {
          "output_type": "execute_result",
          "data": {
            "text/plain": [
              "['US',\n",
              " 'Italy',\n",
              " 'France',\n",
              " 'Spain',\n",
              " 'Chile',\n",
              " 'Argentina',\n",
              " 'Portugal',\n",
              " 'Australia',\n",
              " 'New Zealand',\n",
              " 'Austria',\n",
              " 'Germany',\n",
              " 'South Africa',\n",
              " 'Greece',\n",
              " 'Israel']"
            ]
          },
          "metadata": {
            "tags": []
          },
          "execution_count": 266
        }
      ]
    },
    {
      "cell_type": "code",
      "metadata": {
        "colab": {
          "base_uri": "https://localhost:8080/"
        },
        "id": "2GiSE4h0TFRy",
        "outputId": "4a7c22a4-88eb-432e-c1ee-211ac6e760f1"
      },
      "source": [
        "pip install squarify"
      ],
      "execution_count": null,
      "outputs": [
        {
          "output_type": "stream",
          "text": [
            "Collecting squarify\n",
            "  Downloading https://files.pythonhosted.org/packages/0b/2b/2e77c35326efec19819cd1d729540d4d235e6c2a3f37658288a363a67da5/squarify-0.4.3-py3-none-any.whl\n",
            "Installing collected packages: squarify\n",
            "Successfully installed squarify-0.4.3\n"
          ],
          "name": "stdout"
        }
      ]
    },
    {
      "cell_type": "code",
      "metadata": {
        "id": "UexqHXpNRptR"
      },
      "source": [
        "# libraries\r\n",
        "import matplotlib.pyplot as plt\r\n",
        "import squarify    # pip install squarify (algorithm for treemap)"
      ],
      "execution_count": null,
      "outputs": []
    },
    {
      "cell_type": "code",
      "metadata": {
        "colab": {
          "base_uri": "https://localhost:8080/"
        },
        "id": "JGIdTAY1VPOJ",
        "outputId": "16a8a86c-7029-464e-d7d8-d5bf9f0cb767"
      },
      "source": [
        "sales_country.country.values"
      ],
      "execution_count": null,
      "outputs": [
        {
          "output_type": "execute_result",
          "data": {
            "text/plain": [
              "array([62397, 23478, 21098,  8268,  5816,  5631,  5322,  4957,  3320,\n",
              "        3057,  2452,  2258,   884,   630])"
            ]
          },
          "metadata": {
            "tags": []
          },
          "execution_count": 277
        }
      ]
    },
    {
      "cell_type": "code",
      "metadata": {
        "colab": {
          "base_uri": "https://localhost:8080/",
          "height": 683
        },
        "id": "BGzoOzFYRrbg",
        "outputId": "c11aaec4-a542-491d-e6c7-1e6b0cac410c"
      },
      "source": [
        "# If you have a data frame?\r\n",
        "import matplotlib\r\n",
        "import pandas as pd\r\n",
        "#df = pd.DataFrame({'nb_people':[8,3,4,2], 'group':[\"group A\", \"group B\", \"group C\", \"group D\"] })\r\n",
        "\r\n",
        "fig, ax = plt.subplots(1, figsize = (12,12))\r\n",
        "norm = matplotlib.colors.Normalize(vmin=min(sales_country.country), vmax=max(sales_country.country))\r\n",
        "colors = [matplotlib.cm.YlOrRd(norm(value)) for value in sales_country.country.values]\r\n",
        "\r\n",
        "squarify.plot(sizes=sales_country['country'], label=sales_country['country'].index, color = colors, alpha=.9, text_kwargs={'fontsize':20} )\r\n",
        "plt.axis('off')\r\n",
        "plt.show()"
      ],
      "execution_count": null,
      "outputs": [
        {
          "output_type": "display_data",
          "data": {
            "image/png": "[encoded data removed]",
            "text/plain": [
              "<Figure size 864x864 with 1 Axes>"
            ]
          },
          "metadata": {
            "tags": []
          }
        }
      ]
    },
    {
      "cell_type": "code",
      "metadata": {
        "colab": {
          "base_uri": "https://localhost:8080/",
          "height": 424
        },
        "id": "YGfDJn2eQGQM",
        "outputId": "d224bec4-2528-4d5f-c314-5cb61697a7cd"
      },
      "source": [
        "df_sales_target.loc[(df_sales_target['country'] == 'US')].value_counts()"
      ],
      "execution_count": null,
      "outputs": [
        {
          "output_type": "execute_result",
          "data": {
            "text/html": [
              "<div>\n",
              "<style scoped>\n",
              "    .dataframe tbody tr th:only-of-type {\n",
              "        vertical-align: middle;\n",
              "    }\n",
              "\n",
              "    .dataframe tbody tr th {\n",
              "        vertical-align: top;\n",
              "    }\n",
              "\n",
              "    .dataframe thead th {\n",
              "        text-align: right;\n",
              "    }\n",
              "</style>\n",
              "<table border=\"1\" class=\"dataframe\">\n",
              "  <thead>\n",
              "    <tr style=\"text-align: right;\">\n",
              "      <th></th>\n",
              "      <th>country</th>\n",
              "      <th>description</th>\n",
              "      <th>points</th>\n",
              "      <th>price</th>\n",
              "      <th>variety</th>\n",
              "    </tr>\n",
              "  </thead>\n",
              "  <tbody>\n",
              "    <tr>\n",
              "      <th>2</th>\n",
              "      <td>US</td>\n",
              "      <td>Pure Syrah from a great lineup of vineyards. I...</td>\n",
              "      <td>93</td>\n",
              "      <td>42.0</td>\n",
              "      <td>Syrah</td>\n",
              "    </tr>\n",
              "    <tr>\n",
              "      <th>4</th>\n",
              "      <td>US</td>\n",
              "      <td>The is dry and well balanced, with red licoric...</td>\n",
              "      <td>88</td>\n",
              "      <td>35.0</td>\n",
              "      <td>Pinot Noir</td>\n",
              "    </tr>\n",
              "    <tr>\n",
              "      <th>5</th>\n",
              "      <td>US</td>\n",
              "      <td>Grassy lime, kiwi and crème brûlée provide suc...</td>\n",
              "      <td>91</td>\n",
              "      <td>23.0</td>\n",
              "      <td>Sauvignon Blanc</td>\n",
              "    </tr>\n",
              "    <tr>\n",
              "      <th>6</th>\n",
              "      <td>US</td>\n",
              "      <td>My experience of Swan Pinots is that they've b...</td>\n",
              "      <td>90</td>\n",
              "      <td>45.0</td>\n",
              "      <td>Pinot Noir</td>\n",
              "    </tr>\n",
              "    <tr>\n",
              "      <th>8</th>\n",
              "      <td>US</td>\n",
              "      <td>Winemaker Nick Elliott taps into the biodynami...</td>\n",
              "      <td>92</td>\n",
              "      <td>55.0</td>\n",
              "      <td>Syrah</td>\n",
              "    </tr>\n",
              "    <tr>\n",
              "      <th>...</th>\n",
              "      <td>...</td>\n",
              "      <td>...</td>\n",
              "      <td>...</td>\n",
              "      <td>...</td>\n",
              "      <td>...</td>\n",
              "    </tr>\n",
              "    <tr>\n",
              "      <th>150912</th>\n",
              "      <td>US</td>\n",
              "      <td>This Syrah is so good, it makes you wonder if ...</td>\n",
              "      <td>92</td>\n",
              "      <td>38.0</td>\n",
              "      <td>Syrah</td>\n",
              "    </tr>\n",
              "    <tr>\n",
              "      <th>150918</th>\n",
              "      <td>US</td>\n",
              "      <td>Released at seven years of age, this Syrah is ...</td>\n",
              "      <td>91</td>\n",
              "      <td>36.0</td>\n",
              "      <td>Syrah</td>\n",
              "    </tr>\n",
              "    <tr>\n",
              "      <th>150921</th>\n",
              "      <td>US</td>\n",
              "      <td>There's lots of sweetness in this polished win...</td>\n",
              "      <td>86</td>\n",
              "      <td>25.0</td>\n",
              "      <td>Riesling</td>\n",
              "    </tr>\n",
              "    <tr>\n",
              "      <th>150925</th>\n",
              "      <td>US</td>\n",
              "      <td>Tart and zingy in acidity, and a little one-di...</td>\n",
              "      <td>87</td>\n",
              "      <td>25.0</td>\n",
              "      <td>Pinot Noir</td>\n",
              "    </tr>\n",
              "    <tr>\n",
              "      <th>150927</th>\n",
              "      <td>US</td>\n",
              "      <td>This is an hommage to the owning family's whit...</td>\n",
              "      <td>91</td>\n",
              "      <td>40.0</td>\n",
              "      <td>Rhône-style White Blend</td>\n",
              "    </tr>\n",
              "  </tbody>\n",
              "</table>\n",
              "<p>62397 rows × 5 columns</p>\n",
              "</div>"
            ],
            "text/plain": [
              "       country  ...                  variety\n",
              "2           US  ...                    Syrah\n",
              "4           US  ...               Pinot Noir\n",
              "5           US  ...          Sauvignon Blanc\n",
              "6           US  ...               Pinot Noir\n",
              "8           US  ...                    Syrah\n",
              "...        ...  ...                      ...\n",
              "150912      US  ...                    Syrah\n",
              "150918      US  ...                    Syrah\n",
              "150921      US  ...                 Riesling\n",
              "150925      US  ...               Pinot Noir\n",
              "150927      US  ...  Rhône-style White Blend\n",
              "\n",
              "[62397 rows x 5 columns]"
            ]
          },
          "metadata": {
            "tags": []
          },
          "execution_count": 242
        }
      ]
    },
    {
      "cell_type": "code",
      "metadata": {
        "colab": {
          "base_uri": "https://localhost:8080/",
          "height": 400
        },
        "id": "sNFkGjj4NYAw",
        "outputId": "be4c18b3-8114-4727-d2c5-b18a5337e36f"
      },
      "source": [
        "# Creating a bar plot\r\n",
        "sns.barplot(x=target_country, y=df_sales_target['price'])\r\n",
        "# Add labels to your graph\r\n",
        "plt.xlabel('Country')\r\n",
        "plt.ylabel('Price')\r\n",
        "plt.title(\"Price of wines in multiple countries\")\r\n",
        "plt.legend()\r\n",
        "plt.show()"
      ],
      "execution_count": null,
      "outputs": [
        {
          "output_type": "error",
          "ename": "KeyError",
          "evalue": "ignored",
          "traceback": [
            "\u001b[0;31m---------------------------------------------------------------------------\u001b[0m",
            "\u001b[0;31mKeyError\u001b[0m                                  Traceback (most recent call last)",
            "\u001b[0;32m<ipython-input-230-f9822b4fe2ea>\u001b[0m in \u001b[0;36m<module>\u001b[0;34m()\u001b[0m\n\u001b[1;32m      1\u001b[0m \u001b[0;31m# Creating a bar plot\u001b[0m\u001b[0;34m\u001b[0m\u001b[0;34m\u001b[0m\u001b[0;34m\u001b[0m\u001b[0m\n\u001b[0;32m----> 2\u001b[0;31m \u001b[0msns\u001b[0m\u001b[0;34m.\u001b[0m\u001b[0mbarplot\u001b[0m\u001b[0;34m(\u001b[0m\u001b[0mx\u001b[0m\u001b[0;34m=\u001b[0m\u001b[0mtarget_country\u001b[0m\u001b[0;34m,\u001b[0m \u001b[0my\u001b[0m\u001b[0;34m=\u001b[0m\u001b[0mdf_sales_target\u001b[0m\u001b[0;34m[\u001b[0m\u001b[0;34m'price'\u001b[0m\u001b[0;34m]\u001b[0m\u001b[0;34m)\u001b[0m\u001b[0;34m\u001b[0m\u001b[0;34m\u001b[0m\u001b[0m\n\u001b[0m\u001b[1;32m      3\u001b[0m \u001b[0;31m# Add labels to your graph\u001b[0m\u001b[0;34m\u001b[0m\u001b[0;34m\u001b[0m\u001b[0;34m\u001b[0m\u001b[0m\n\u001b[1;32m      4\u001b[0m \u001b[0mplt\u001b[0m\u001b[0;34m.\u001b[0m\u001b[0mxlabel\u001b[0m\u001b[0;34m(\u001b[0m\u001b[0;34m'Country'\u001b[0m\u001b[0;34m)\u001b[0m\u001b[0;34m\u001b[0m\u001b[0;34m\u001b[0m\u001b[0m\n\u001b[1;32m      5\u001b[0m \u001b[0mplt\u001b[0m\u001b[0;34m.\u001b[0m\u001b[0mylabel\u001b[0m\u001b[0;34m(\u001b[0m\u001b[0;34m'Price'\u001b[0m\u001b[0;34m)\u001b[0m\u001b[0;34m\u001b[0m\u001b[0;34m\u001b[0m\u001b[0m\n",
            "\u001b[0;32m/usr/local/lib/python3.7/dist-packages/seaborn/_decorators.py\u001b[0m in \u001b[0;36minner_f\u001b[0;34m(*args, **kwargs)\u001b[0m\n\u001b[1;32m     44\u001b[0m             )\n\u001b[1;32m     45\u001b[0m         \u001b[0mkwargs\u001b[0m\u001b[0;34m.\u001b[0m\u001b[0mupdate\u001b[0m\u001b[0;34m(\u001b[0m\u001b[0;34m{\u001b[0m\u001b[0mk\u001b[0m\u001b[0;34m:\u001b[0m \u001b[0marg\u001b[0m \u001b[0;32mfor\u001b[0m \u001b[0mk\u001b[0m\u001b[0;34m,\u001b[0m \u001b[0marg\u001b[0m \u001b[0;32min\u001b[0m \u001b[0mzip\u001b[0m\u001b[0;34m(\u001b[0m\u001b[0msig\u001b[0m\u001b[0;34m.\u001b[0m\u001b[0mparameters\u001b[0m\u001b[0;34m,\u001b[0m \u001b[0margs\u001b[0m\u001b[0;34m)\u001b[0m\u001b[0;34m}\u001b[0m\u001b[0;34m)\u001b[0m\u001b[0;34m\u001b[0m\u001b[0;34m\u001b[0m\u001b[0m\n\u001b[0;32m---> 46\u001b[0;31m         \u001b[0;32mreturn\u001b[0m \u001b[0mf\u001b[0m\u001b[0;34m(\u001b[0m\u001b[0;34m**\u001b[0m\u001b[0mkwargs\u001b[0m\u001b[0;34m)\u001b[0m\u001b[0;34m\u001b[0m\u001b[0;34m\u001b[0m\u001b[0m\n\u001b[0m\u001b[1;32m     47\u001b[0m     \u001b[0;32mreturn\u001b[0m \u001b[0minner_f\u001b[0m\u001b[0;34m\u001b[0m\u001b[0;34m\u001b[0m\u001b[0m\n\u001b[1;32m     48\u001b[0m \u001b[0;34m\u001b[0m\u001b[0m\n",
            "\u001b[0;32m/usr/local/lib/python3.7/dist-packages/seaborn/categorical.py\u001b[0m in \u001b[0;36mbarplot\u001b[0;34m(x, y, hue, data, order, hue_order, estimator, ci, n_boot, units, seed, orient, color, palette, saturation, errcolor, errwidth, capsize, dodge, ax, **kwargs)\u001b[0m\n\u001b[1;32m   3180\u001b[0m                           \u001b[0mestimator\u001b[0m\u001b[0;34m,\u001b[0m \u001b[0mci\u001b[0m\u001b[0;34m,\u001b[0m \u001b[0mn_boot\u001b[0m\u001b[0;34m,\u001b[0m \u001b[0munits\u001b[0m\u001b[0;34m,\u001b[0m \u001b[0mseed\u001b[0m\u001b[0;34m,\u001b[0m\u001b[0;34m\u001b[0m\u001b[0;34m\u001b[0m\u001b[0m\n\u001b[1;32m   3181\u001b[0m                           \u001b[0morient\u001b[0m\u001b[0;34m,\u001b[0m \u001b[0mcolor\u001b[0m\u001b[0;34m,\u001b[0m \u001b[0mpalette\u001b[0m\u001b[0;34m,\u001b[0m \u001b[0msaturation\u001b[0m\u001b[0;34m,\u001b[0m\u001b[0;34m\u001b[0m\u001b[0;34m\u001b[0m\u001b[0m\n\u001b[0;32m-> 3182\u001b[0;31m                           errcolor, errwidth, capsize, dodge)\n\u001b[0m\u001b[1;32m   3183\u001b[0m \u001b[0;34m\u001b[0m\u001b[0m\n\u001b[1;32m   3184\u001b[0m     \u001b[0;32mif\u001b[0m \u001b[0max\u001b[0m \u001b[0;32mis\u001b[0m \u001b[0;32mNone\u001b[0m\u001b[0;34m:\u001b[0m\u001b[0;34m\u001b[0m\u001b[0;34m\u001b[0m\u001b[0m\n",
            "\u001b[0;32m/usr/local/lib/python3.7/dist-packages/seaborn/categorical.py\u001b[0m in \u001b[0;36m__init__\u001b[0;34m(self, x, y, hue, data, order, hue_order, estimator, ci, n_boot, units, seed, orient, color, palette, saturation, errcolor, errwidth, capsize, dodge)\u001b[0m\n\u001b[1;32m   1583\u001b[0m         \u001b[0;34m\"\"\"Initialize the plotter.\"\"\"\u001b[0m\u001b[0;34m\u001b[0m\u001b[0;34m\u001b[0m\u001b[0m\n\u001b[1;32m   1584\u001b[0m         self.establish_variables(x, y, hue, data, orient,\n\u001b[0;32m-> 1585\u001b[0;31m                                  order, hue_order, units)\n\u001b[0m\u001b[1;32m   1586\u001b[0m         \u001b[0mself\u001b[0m\u001b[0;34m.\u001b[0m\u001b[0mestablish_colors\u001b[0m\u001b[0;34m(\u001b[0m\u001b[0mcolor\u001b[0m\u001b[0;34m,\u001b[0m \u001b[0mpalette\u001b[0m\u001b[0;34m,\u001b[0m \u001b[0msaturation\u001b[0m\u001b[0;34m)\u001b[0m\u001b[0;34m\u001b[0m\u001b[0;34m\u001b[0m\u001b[0m\n\u001b[1;32m   1587\u001b[0m         \u001b[0mself\u001b[0m\u001b[0;34m.\u001b[0m\u001b[0mestimate_statistic\u001b[0m\u001b[0;34m(\u001b[0m\u001b[0mestimator\u001b[0m\u001b[0;34m,\u001b[0m \u001b[0mci\u001b[0m\u001b[0;34m,\u001b[0m \u001b[0mn_boot\u001b[0m\u001b[0;34m,\u001b[0m \u001b[0mseed\u001b[0m\u001b[0;34m)\u001b[0m\u001b[0;34m\u001b[0m\u001b[0;34m\u001b[0m\u001b[0m\n",
            "\u001b[0;32m/usr/local/lib/python3.7/dist-packages/seaborn/categorical.py\u001b[0m in \u001b[0;36mestablish_variables\u001b[0;34m(self, x, y, hue, data, orient, order, hue_order, units)\u001b[0m\n\u001b[1;32m    205\u001b[0m                 \u001b[0;31m# Group the numeric data\u001b[0m\u001b[0;34m\u001b[0m\u001b[0;34m\u001b[0m\u001b[0;34m\u001b[0m\u001b[0m\n\u001b[1;32m    206\u001b[0m                 plot_data, value_label = self._group_longform(vals, groups,\n\u001b[0;32m--> 207\u001b[0;31m                                                               group_names)\n\u001b[0m\u001b[1;32m    208\u001b[0m \u001b[0;34m\u001b[0m\u001b[0m\n\u001b[1;32m    209\u001b[0m                 \u001b[0;31m# Now handle the hue levels for nested ordering\u001b[0m\u001b[0;34m\u001b[0m\u001b[0;34m\u001b[0m\u001b[0;34m\u001b[0m\u001b[0m\n",
            "\u001b[0;32m/usr/local/lib/python3.7/dist-packages/seaborn/categorical.py\u001b[0m in \u001b[0;36m_group_longform\u001b[0;34m(self, vals, grouper, order)\u001b[0m\n\u001b[1;32m    251\u001b[0m \u001b[0;34m\u001b[0m\u001b[0m\n\u001b[1;32m    252\u001b[0m         \u001b[0;31m# Group the val data\u001b[0m\u001b[0;34m\u001b[0m\u001b[0;34m\u001b[0m\u001b[0;34m\u001b[0m\u001b[0m\n\u001b[0;32m--> 253\u001b[0;31m         \u001b[0mgrouped_vals\u001b[0m \u001b[0;34m=\u001b[0m \u001b[0mvals\u001b[0m\u001b[0;34m.\u001b[0m\u001b[0mgroupby\u001b[0m\u001b[0;34m(\u001b[0m\u001b[0mgrouper\u001b[0m\u001b[0;34m)\u001b[0m\u001b[0;34m\u001b[0m\u001b[0;34m\u001b[0m\u001b[0m\n\u001b[0m\u001b[1;32m    254\u001b[0m         \u001b[0mout_data\u001b[0m \u001b[0;34m=\u001b[0m \u001b[0;34m[\u001b[0m\u001b[0;34m]\u001b[0m\u001b[0;34m\u001b[0m\u001b[0;34m\u001b[0m\u001b[0m\n\u001b[1;32m    255\u001b[0m         \u001b[0;32mfor\u001b[0m \u001b[0mg\u001b[0m \u001b[0;32min\u001b[0m \u001b[0morder\u001b[0m\u001b[0;34m:\u001b[0m\u001b[0;34m\u001b[0m\u001b[0;34m\u001b[0m\u001b[0m\n",
            "\u001b[0;32m/usr/local/lib/python3.7/dist-packages/pandas/core/series.py\u001b[0m in \u001b[0;36mgroupby\u001b[0;34m(self, by, axis, level, as_index, sort, group_keys, squeeze, observed, dropna)\u001b[0m\n\u001b[1;32m   1744\u001b[0m             \u001b[0msqueeze\u001b[0m\u001b[0;34m=\u001b[0m\u001b[0msqueeze\u001b[0m\u001b[0;34m,\u001b[0m\u001b[0;34m\u001b[0m\u001b[0;34m\u001b[0m\u001b[0m\n\u001b[1;32m   1745\u001b[0m             \u001b[0mobserved\u001b[0m\u001b[0;34m=\u001b[0m\u001b[0mobserved\u001b[0m\u001b[0;34m,\u001b[0m\u001b[0;34m\u001b[0m\u001b[0;34m\u001b[0m\u001b[0m\n\u001b[0;32m-> 1746\u001b[0;31m             \u001b[0mdropna\u001b[0m\u001b[0;34m=\u001b[0m\u001b[0mdropna\u001b[0m\u001b[0;34m,\u001b[0m\u001b[0;34m\u001b[0m\u001b[0;34m\u001b[0m\u001b[0m\n\u001b[0m\u001b[1;32m   1747\u001b[0m         )\n\u001b[1;32m   1748\u001b[0m \u001b[0;34m\u001b[0m\u001b[0m\n",
            "\u001b[0;32m/usr/local/lib/python3.7/dist-packages/pandas/core/groupby/groupby.py\u001b[0m in \u001b[0;36m__init__\u001b[0;34m(self, obj, keys, axis, level, grouper, exclusions, selection, as_index, sort, group_keys, squeeze, observed, mutated, dropna)\u001b[0m\n\u001b[1;32m    531\u001b[0m                 \u001b[0mobserved\u001b[0m\u001b[0;34m=\u001b[0m\u001b[0mobserved\u001b[0m\u001b[0;34m,\u001b[0m\u001b[0;34m\u001b[0m\u001b[0;34m\u001b[0m\u001b[0m\n\u001b[1;32m    532\u001b[0m                 \u001b[0mmutated\u001b[0m\u001b[0;34m=\u001b[0m\u001b[0mself\u001b[0m\u001b[0;34m.\u001b[0m\u001b[0mmutated\u001b[0m\u001b[0;34m,\u001b[0m\u001b[0;34m\u001b[0m\u001b[0;34m\u001b[0m\u001b[0m\n\u001b[0;32m--> 533\u001b[0;31m                 \u001b[0mdropna\u001b[0m\u001b[0;34m=\u001b[0m\u001b[0mself\u001b[0m\u001b[0;34m.\u001b[0m\u001b[0mdropna\u001b[0m\u001b[0;34m,\u001b[0m\u001b[0;34m\u001b[0m\u001b[0;34m\u001b[0m\u001b[0m\n\u001b[0m\u001b[1;32m    534\u001b[0m             )\n\u001b[1;32m    535\u001b[0m \u001b[0;34m\u001b[0m\u001b[0m\n",
            "\u001b[0;32m/usr/local/lib/python3.7/dist-packages/pandas/core/groupby/grouper.py\u001b[0m in \u001b[0;36mget_grouper\u001b[0;34m(obj, key, axis, level, sort, observed, mutated, validate, dropna)\u001b[0m\n\u001b[1;32m    784\u001b[0m                 \u001b[0min_axis\u001b[0m\u001b[0;34m,\u001b[0m \u001b[0mname\u001b[0m\u001b[0;34m,\u001b[0m \u001b[0mlevel\u001b[0m\u001b[0;34m,\u001b[0m \u001b[0mgpr\u001b[0m \u001b[0;34m=\u001b[0m \u001b[0;32mFalse\u001b[0m\u001b[0;34m,\u001b[0m \u001b[0;32mNone\u001b[0m\u001b[0;34m,\u001b[0m \u001b[0mgpr\u001b[0m\u001b[0;34m,\u001b[0m \u001b[0;32mNone\u001b[0m\u001b[0;34m\u001b[0m\u001b[0;34m\u001b[0m\u001b[0m\n\u001b[1;32m    785\u001b[0m             \u001b[0;32melse\u001b[0m\u001b[0;34m:\u001b[0m\u001b[0;34m\u001b[0m\u001b[0;34m\u001b[0m\u001b[0m\n\u001b[0;32m--> 786\u001b[0;31m                 \u001b[0;32mraise\u001b[0m \u001b[0mKeyError\u001b[0m\u001b[0;34m(\u001b[0m\u001b[0mgpr\u001b[0m\u001b[0;34m)\u001b[0m\u001b[0;34m\u001b[0m\u001b[0;34m\u001b[0m\u001b[0m\n\u001b[0m\u001b[1;32m    787\u001b[0m         \u001b[0;32melif\u001b[0m \u001b[0misinstance\u001b[0m\u001b[0;34m(\u001b[0m\u001b[0mgpr\u001b[0m\u001b[0;34m,\u001b[0m \u001b[0mGrouper\u001b[0m\u001b[0;34m)\u001b[0m \u001b[0;32mand\u001b[0m \u001b[0mgpr\u001b[0m\u001b[0;34m.\u001b[0m\u001b[0mkey\u001b[0m \u001b[0;32mis\u001b[0m \u001b[0;32mnot\u001b[0m \u001b[0;32mNone\u001b[0m\u001b[0;34m:\u001b[0m\u001b[0;34m\u001b[0m\u001b[0;34m\u001b[0m\u001b[0m\n\u001b[1;32m    788\u001b[0m             \u001b[0;31m# Add key to exclusions\u001b[0m\u001b[0;34m\u001b[0m\u001b[0;34m\u001b[0m\u001b[0;34m\u001b[0m\u001b[0m\n",
            "\u001b[0;31mKeyError\u001b[0m: 'US'"
          ]
        }
      ]
    }
  ]
}